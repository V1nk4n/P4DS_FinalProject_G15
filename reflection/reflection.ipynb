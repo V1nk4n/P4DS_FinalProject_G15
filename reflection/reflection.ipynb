{
 "cells": [
  {
   "cell_type": "markdown",
   "id": "e3f8edb3-5b93-4575-82fc-181950173eed",
   "metadata": {},
   "source": [
    "# MỤC LỤC\n",
    "* [1. Những khó khăn và cách giải quyết trong quá trình phân tích](#phan1)\n",
    "* [2. Những kiến thức học được sau khi phân tích](#phan2)"
   ]
  },
  {
   "cell_type": "markdown",
   "id": "dbd9fed5-433a-458e-a439-bffc516d55e6",
   "metadata": {},
   "source": [
    "## 1. Những khó khăn và cách giải quyết trong quá trình phân tích:\n",
    "<a id=\"phan1\"></a>\n",
    "\n",
    "**Đối với quá trình phân tích của sinh viên 22120003:**\n",
    "- Một phần lớn dữ liệu có Nhà xuất bản là \"Không rõ\", gây khó khăn trong việc phân loại và phân tích cụ thể.\n",
    "\n",
    "   → Phân tích các xu hướng chung trên dữ liệu có thông tin để đại diện cho nhóm có nhãn \"Không rõ\".\n",
    "  \n",
    "- Khó khăn trong việc xác định ngưỡng đánh giá (ví dụ như số lượng đánh giá tối thiểu) đòi hỏi sự cân nhắc kỹ lưỡng giữa dữ liệu thực tế và các tiêu chuẩn thống kê.\n",
    "\n",
    "  → Sử dụng phân phối thống kê thực tế để xác định ngưỡng hợp lý.\n",
    "\n",
    "  \n",
    "- Dữ liệu phân phối sách trên nhiều thể loại khác nhau khiến việc xác định thế mạnh của từng Nhà xuất bản phức tạp.\n",
    "\n",
    "  → Nhóm dữ liệu theo manufacturer và category, sau đó tìm thể loại nổi bật nhất của từng Nhà xuất bản.\n",
    "\n",
    "**Đối với quá trình phân tích của sinh viên 22120008:**\n",
    "- Dữ liệu có 1 outlier vượt trội dẫn đến khó khăn trong việc phân tích dữ liệu.\n",
    "\n",
    "  → Loại bỏ ngoại lệ để phân tích.\n",
    "  \n",
    "- Khi thể hiện biểu đồ phân vân việc lựa chọn top để thể hiện.\n",
    "\n",
    "  → Thống nhất 1 số lượng top và chỉ phân tích theo số đó\n",
    "\n",
    "**Đối với quá trình phân tích của sinh viên 22120009:**\n",
    "- Ban đầu, các phân tích còn rời rạc chưa có định hướng rõ ràng.\n",
    "\n",
    "  → Tập trung vào mục tiêu, xác định thực hiện phân tích theo góc nhìn của Tiki: tối ưu hóa doanh thu.\n",
    "  \n",
    "- Số lượng tác giả quá lớn.\n",
    "\n",
    "  → Tìm tiêu chí (doanh thu, số lượng bán ra) để chọn ra các tác giả xu hướng và phân tích các tác giả này.\n",
    "\n",
    "- Các biểu đồ chưa hiển thị như mong muốn.\n",
    "\n",
    "  → Tìm kiếm thông tin trong các thư viện để điều chỉnh cho phù hợp.\n",
    "\n",
    "- Khi tính doanh thu, con số này khá lớn, khi vẽ lên biểu đồ không thể hiện hết.\n",
    "\n",
    "  → Chuẩn hóa về đơn vị tỷ VNĐ.\n"
   ]
  },
  {
   "cell_type": "markdown",
   "id": "cbf78880-59fa-4338-9a07-ac5a9efde142",
   "metadata": {},
   "source": [
    "## 2.Những kiến thức học được sau khi phân tích:\n",
    "<a id=\"phan2\"></a>\n",
    "\n",
    "**Đối với sinh viên 22120003:**\n",
    "- Kết quả rút ra được không nhất thiết phải trực quan ở dạng biểu đồ, mà có thể in ra dưới dạng DataFrame.\n",
    "- Cải thiện kỹ năng phân tích dữ liệu.\n",
    "- Dựa vào các chỉ số thống kê để chọn ra ngưỡng phù hợp với dữ liệu từ đó việc phân tích trở nên hợp lý hơn.\n",
    "- Chất lượng dữ liệu là yếu tố then chốt để phân tích nên cần chuẩn bị và làm sạch kỹ lưỡng trước khi phân tích.\n",
    "\n",
    "**Đối với sinh viên 22120008:**\n",
    "- Học được thêm các tham số khác trong các hàm vẽ biểu đồ.\n",
    "- Biết cách thêm giá trị của các dữ liệu lên trên biểu đồ.\n",
    "- Kỹ năng phân tích biểu đồ được cải thiện.\n",
    "\n",
    "**Đối với sinh viên 22120009:**\n",
    "- Cách tùy chỉnh các tham số trong biểu đồ.\n",
    "- Cách sử dụng jupyter Notebook TOC.\n",
    "- Lựa chọn màu sắc của biểu đồ phù hợp.\n",
    "- Kỹ năng phân tích được cải thiện.\n",
    "- Cách tổ chức công việc trên git.\n",
    "- Kỹ năng tiền xử lý dữ liệu\n"
   ]
  }
 ],
 "metadata": {
  "kernelspec": {
   "display_name": "Python 3 (ipykernel)",
   "language": "python",
   "name": "python3"
  },
  "language_info": {
   "codemirror_mode": {
    "name": "ipython",
    "version": 3
   },
   "file_extension": ".py",
   "mimetype": "text/x-python",
   "name": "python",
   "nbconvert_exporter": "python",
   "pygments_lexer": "ipython3",
   "version": "3.8.10"
  }
 },
 "nbformat": 4,
 "nbformat_minor": 5
}
