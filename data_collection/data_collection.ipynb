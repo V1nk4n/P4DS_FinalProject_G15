{
 "cells": [
  {
   "cell_type": "markdown",
   "id": "35c580bc-2412-4867-b7cb-b5e60001056b",
   "metadata": {},
   "source": [
    "# Thu thập dữ liệu"
   ]
  },
  {
   "cell_type": "markdown",
   "id": "3e6a4af3-5076-448d-b234-1c88c782d117",
   "metadata": {},
   "source": [
    "# Mục lục\n",
    "* [Chủ đề đồ án và nguồn dữ liệu](#chudenguondulieu)\n",
    "  * [Chủ đề](#chude)\n",
    "  * [Nguồn dữ liệu](#nguondulieu)\n",
    "* [Sự cấp phép sử dụng dữ liệu và giấy phép](#capphep)\n",
    "* [Cách thu thập dữ liệu của tác giả](#thuthap)"
   ]
  },
  {
   "cell_type": "markdown",
   "id": "52d7a7d7-3ddf-4450-ba0d-6bdcbbbff6be",
   "metadata": {},
   "source": [
    "## Chủ đề đồ án và nguồn dữ liệu: <a class=\"anchor\" id=\"chudenguondulieu\"></a>\n",
    "### Chủ đề: <a id=\"chude\"></a>\n",
    "- Thống kê các đầu sách có mặt ở Tiki với các thuộc tính như tên sách, tác giả, giá gốc, giá bán, số lượng đã bán ra, thể loại, số lượt đánh giá, điểm đánh giá và số trang.\n",
    "- Mục đích: Nghiên cứu dữ liệu sách có sẵn trên Tiki nhằm mục tiêu đánh giá các yếu tố ảnh hưởng đến doanh số, sự phổ biến và chiến lược kinh doanh. Tập trung vào các thuộc tính như tên sách, tác giả, giá gốc, giá bán, số lượng đã bán ra, thể loại, số lượt đánh giá, điểm đánh giá và số trang.\n",
    "- Ý nghĩa:\n",
    "  + Đánh giá tình hình mua bán: Xác định các thể loại, tác giả và nhà xuất bản sách được ưa chuộng nhất và mức độ phổ biến. Tìm ra các yếu tố thúc đẩy doanh số bán hàng: giá cả, đánh giá, khuyến mãi,...\n",
    "  + Hỗ trợ chiến lược kinh doanh: Gợi ý cải thiện phân phối và quảng bá sách dựa trên nhu cầu thực tế. Tìm hiểu xu hướng đọc sách để hỗ trợ việc chọn lọc sản phẩm cung cấp.\n",
    "\n",
    "### Nguồn dữ liệu: <a id=\"nguondulieu\"></a>\n",
    "- Dữ liệu được lấy từ Kaggle."
   ]
  },
  {
   "cell_type": "markdown",
   "id": "198a832a-1a46-4150-8294-6fad52d5b718",
   "metadata": {},
   "source": [
    "## Sự cấp phép sử dụng dữ liệu từ tác giả: <a class=\"anchor\" id=\"capphep\"></a>\n",
    "- Giấy phép: CC0 1.0 Universal (CC0 1.0)Public Domain Dedication.\n",
    "- Đây là một giấy phép được cung cấp bởi tổ chức Creative Commons, cho phép người tạo nội dung từ bỏ mọi quyền sở hữu trí tuệ đối với tác phẩm của mình, bao gồm bản quyền và các quyền liên quan. Điều này đặt tác phẩm vào phạm vi công cộng (public domain) trên toàn cầu, với mục đích làm cho tác phẩm hoàn toàn tự do sử dụng.\n",
    "- Vì vậy, mọi người có thể sử dụng, sao chép, chỉnh sửa, phân phối và thậm chí thương mại hóa tác phẩm mà không cần xin phép.\n",
    "- Nghĩa là việc sử dụng bộ dữ liệu này là hoàn toàn được phép."
   ]
  },
  {
   "cell_type": "markdown",
   "id": "53f060bb-cfda-4c54-aaa3-d86896b87ade",
   "metadata": {},
   "source": [
    "## Cách thu thập dữ liệu của tác giả: <a class=\"anchor\" id=\"thuthap\"></a>\n",
    "Dữ liệu này được tác giả Bùi Minh Đức thu thập từ trang Tiki.vn bằng cách sử dụng ngôn ngữ lập trình để truy cập vào web Tiki.vn, đọc nội dung HTML và trích xuất dữ liệu các đầu sách."
   ]
  }
 ],
 "metadata": {
  "kernelspec": {
   "display_name": "Python 3 (ipykernel)",
   "language": "python",
   "name": "python3"
  },
  "language_info": {
   "codemirror_mode": {
    "name": "ipython",
    "version": 3
   },
   "file_extension": ".py",
   "mimetype": "text/x-python",
   "name": "python",
   "nbconvert_exporter": "python",
   "pygments_lexer": "ipython3",
   "version": "3.10.8"
  }
 },
 "nbformat": 4,
 "nbformat_minor": 5
}
