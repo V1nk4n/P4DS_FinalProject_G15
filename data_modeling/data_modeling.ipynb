{
 "cells": [
  {
   "cell_type": "markdown",
   "metadata": {
    "id": "A_dEfPqMvfQu"
   },
   "source": [
    "# Import thư viện"
   ]
  },
  {
   "cell_type": "code",
   "execution_count": 1,
   "metadata": {
    "id": "PbCgdtbwa5-q"
   },
   "outputs": [],
   "source": [
    "import pandas as pd\n",
    "import numpy as np\n",
    "from sklearn.preprocessing import StandardScaler\n",
    "from sklearn.model_selection import train_test_split\n",
    "from sklearn.preprocessing import LabelEncoder\n",
    "from sklearn.linear_model import LinearRegression\n",
    "from xgboost import XGBRegressor\n",
    "from sklearn.metrics import mean_squared_error, mean_absolute_error, r2_score\n",
    "from sklearn.model_selection import GridSearchCV"
   ]
  },
  {
   "cell_type": "markdown",
   "metadata": {
    "id": "hueq0kDpvhkU"
   },
   "source": [
    "# Đọc dữ liệu"
   ]
  },
  {
   "cell_type": "code",
   "execution_count": 2,
   "metadata": {
    "colab": {
     "base_uri": "https://localhost:8080/",
     "height": 321
    },
    "id": "6ixUCmnLa9y4",
    "outputId": "77f4e3f4-6582-4148-b24c-9e4069994377"
   },
   "outputs": [
    {
     "data": {
      "text/html": [
       "<div>\n",
       "<style scoped>\n",
       "    .dataframe tbody tr th:only-of-type {\n",
       "        vertical-align: middle;\n",
       "    }\n",
       "\n",
       "    .dataframe tbody tr th {\n",
       "        vertical-align: top;\n",
       "    }\n",
       "\n",
       "    .dataframe thead th {\n",
       "        text-align: right;\n",
       "    }\n",
       "</style>\n",
       "<table border=\"1\" class=\"dataframe\">\n",
       "  <thead>\n",
       "    <tr style=\"text-align: right;\">\n",
       "      <th></th>\n",
       "      <th>product_id</th>\n",
       "      <th>title</th>\n",
       "      <th>authors</th>\n",
       "      <th>original_price</th>\n",
       "      <th>current_price</th>\n",
       "      <th>quantity</th>\n",
       "      <th>category</th>\n",
       "      <th>n_review</th>\n",
       "      <th>avg_rating</th>\n",
       "      <th>pages</th>\n",
       "      <th>manufacturer</th>\n",
       "    </tr>\n",
       "  </thead>\n",
       "  <tbody>\n",
       "    <tr>\n",
       "      <th>0</th>\n",
       "      <td>74021317</td>\n",
       "      <td>Cây Cam Ngọt Của Tôi</td>\n",
       "      <td>José Mauro de Vasconcelos</td>\n",
       "      <td>108000</td>\n",
       "      <td>64800</td>\n",
       "      <td>53075</td>\n",
       "      <td>Tiểu Thuyết</td>\n",
       "      <td>11481</td>\n",
       "      <td>5.0</td>\n",
       "      <td>244</td>\n",
       "      <td>Nhà Xuất Bản Hội Nhà Văn</td>\n",
       "    </tr>\n",
       "    <tr>\n",
       "      <th>1</th>\n",
       "      <td>184466860</td>\n",
       "      <td>Hành Tinh Của Một Kẻ Nghĩ Nhiều</td>\n",
       "      <td>Nguyễn Đoàn Minh Thư</td>\n",
       "      <td>86000</td>\n",
       "      <td>59900</td>\n",
       "      <td>7929</td>\n",
       "      <td>Sách tư duy - Kỹ năng sống</td>\n",
       "      <td>780</td>\n",
       "      <td>4.8</td>\n",
       "      <td>184</td>\n",
       "      <td>Nhà Xuất Bản Thế Giới</td>\n",
       "    </tr>\n",
       "    <tr>\n",
       "      <th>2</th>\n",
       "      <td>73787185</td>\n",
       "      <td>Những Tù Nhân Của Địa Lý</td>\n",
       "      <td>Tim Marshall</td>\n",
       "      <td>210000</td>\n",
       "      <td>126000</td>\n",
       "      <td>17896</td>\n",
       "      <td>Lĩnh vực khác</td>\n",
       "      <td>3623</td>\n",
       "      <td>4.8</td>\n",
       "      <td>430</td>\n",
       "      <td>Nhà Xuất Bản Hội Nhà Văn</td>\n",
       "    </tr>\n",
       "    <tr>\n",
       "      <th>3</th>\n",
       "      <td>52789367</td>\n",
       "      <td>Nhà Giả Kim (Tái Bản 2020)</td>\n",
       "      <td>Paulo Coelho</td>\n",
       "      <td>79000</td>\n",
       "      <td>47400</td>\n",
       "      <td>24668</td>\n",
       "      <td>Tác phẩm kinh điển</td>\n",
       "      <td>5131</td>\n",
       "      <td>5.0</td>\n",
       "      <td>228</td>\n",
       "      <td>Nhà Xuất Bản Hà Nội</td>\n",
       "    </tr>\n",
       "    <tr>\n",
       "      <th>4</th>\n",
       "      <td>147920903</td>\n",
       "      <td>Một Thoáng Ta Rực Rỡ Ở Nhân Gian</td>\n",
       "      <td>Không rõ</td>\n",
       "      <td>135000</td>\n",
       "      <td>81000</td>\n",
       "      <td>10000</td>\n",
       "      <td>Tiểu Thuyết</td>\n",
       "      <td>1636</td>\n",
       "      <td>4.8</td>\n",
       "      <td>304</td>\n",
       "      <td>Nhà Xuất Bản Hội Nhà Văn</td>\n",
       "    </tr>\n",
       "  </tbody>\n",
       "</table>\n",
       "</div>"
      ],
      "text/plain": [
       "   product_id                             title                    authors  \\\n",
       "0    74021317              Cây Cam Ngọt Của Tôi  José Mauro de Vasconcelos   \n",
       "1   184466860   Hành Tinh Của Một Kẻ Nghĩ Nhiều       Nguyễn Đoàn Minh Thư   \n",
       "2    73787185          Những Tù Nhân Của Địa Lý               Tim Marshall   \n",
       "3    52789367        Nhà Giả Kim (Tái Bản 2020)               Paulo Coelho   \n",
       "4   147920903  Một Thoáng Ta Rực Rỡ Ở Nhân Gian                   Không rõ   \n",
       "\n",
       "   original_price  current_price  quantity                    category  \\\n",
       "0          108000          64800     53075                 Tiểu Thuyết   \n",
       "1           86000          59900      7929  Sách tư duy - Kỹ năng sống   \n",
       "2          210000         126000     17896               Lĩnh vực khác   \n",
       "3           79000          47400     24668          Tác phẩm kinh điển   \n",
       "4          135000          81000     10000                 Tiểu Thuyết   \n",
       "\n",
       "   n_review  avg_rating  pages              manufacturer  \n",
       "0     11481         5.0    244  Nhà Xuất Bản Hội Nhà Văn  \n",
       "1       780         4.8    184     Nhà Xuất Bản Thế Giới  \n",
       "2      3623         4.8    430  Nhà Xuất Bản Hội Nhà Văn  \n",
       "3      5131         5.0    228       Nhà Xuất Bản Hà Nội  \n",
       "4      1636         4.8    304  Nhà Xuất Bản Hội Nhà Văn  "
      ]
     },
     "execution_count": 2,
     "metadata": {},
     "output_type": "execute_result"
    }
   ],
   "source": [
    "df = pd.read_csv('../dataset/book_data_cleaned.csv')\n",
    "df.head()"
   ]
  },
  {
   "cell_type": "markdown",
   "metadata": {
    "id": "Aju4XhA_vkM8"
   },
   "source": [
    "# Tiền xử lý dữ liệu"
   ]
  },
  {
   "cell_type": "code",
   "execution_count": 3,
   "metadata": {
    "id": "ep9a-KTCbQ4q"
   },
   "outputs": [],
   "source": [
    "# Loại bỏ ngoại lệ\n",
    "q1 = df['quantity'].quantile(0.25)\n",
    "q3 = df['quantity'].quantile(0.75)\n",
    "iqr = q3 - q1\n",
    "lower_bound = q1 - 1.5 * iqr\n",
    "upper_bound = q3 + 1.5 * iqr\n",
    "df = df[(df['quantity'] >= lower_bound) & (df['quantity'] <= upper_bound)]\n",
    "\n",
    "# Áp dụng Label Encoding\n",
    "label_encoder = LabelEncoder()\n",
    "df['category'] = label_encoder.fit_transform(df['category'])\n",
    "\n",
    "# Chọn các thuộc tính\n",
    "# Qua quá trình hiểu dữ liệu, nhóm chọn 3 thuộc tính có ảnh hưởng đến số lượng bán ra là current_price, category và n_review\n",
    "X = df[['current_price', 'category', 'n_review']]\n",
    "y = df['quantity']"
   ]
  },
  {
   "cell_type": "code",
   "execution_count": 4,
   "metadata": {
    "id": "OqwE-MhIa91N"
   },
   "outputs": [],
   "source": [
    "# Chuẩn hóa đữ liệu\n",
    "scaler = StandardScaler()\n",
    "X = scaler.fit_transform(X)"
   ]
  },
  {
   "cell_type": "code",
   "execution_count": 5,
   "metadata": {
    "id": "UHmsb3lEbMhk"
   },
   "outputs": [],
   "source": [
    "# Chia dữ liệu thành các tập train và test\n",
    "X_train, X_test, y_train, y_test = train_test_split(X, y, test_size=0.2, random_state=42)"
   ]
  },
  {
   "cell_type": "markdown",
   "metadata": {
    "id": "Mzhplvzhvw15"
   },
   "source": [
    "# Huấn luyện và đánh giá mô hình"
   ]
  },
  {
   "cell_type": "markdown",
   "metadata": {
    "id": "v7oj6Pw6ZqB7"
   },
   "source": [
    "Ban đầu xử dụng mô hình cơ bản nhất là Linear Regression"
   ]
  },
  {
   "cell_type": "code",
   "execution_count": 6,
   "metadata": {
    "id": "YOJBJvJwYyZ6"
   },
   "outputs": [
    {
     "name": "stdout",
     "output_type": "stream",
     "text": [
      "MSE: 352814.49331514805\n",
      "MAE: 382.8563687336664\n",
      "R² Score: 0.7446193441022857\n",
      "Trung bình số lượng bán ra: 1022.7994891443167\n",
      "Phương sai số lượng bán ra: 1557857.0882042113\n"
     ]
    }
   ],
   "source": [
    "model = LinearRegression()\n",
    "model.fit(X_train, y_train)\n",
    "y_pred = model.predict(X_test)\n",
    "mse = mean_squared_error(y_test, y_pred)\n",
    "print(\"MSE:\", mse)\n",
    "mae = mean_absolute_error(y_test, y_pred)\n",
    "print(\"MAE:\", mae)\n",
    "r2 = r2_score(y_test, y_pred)\n",
    "print(\"R² Score:\", r2)\n",
    "print(\"Trung bình số lượng bán ra:\", y.mean())\n",
    "print(\"Phương sai số lượng bán ra:\", y.var())"
   ]
  },
  {
   "cell_type": "markdown",
   "metadata": {
    "id": "gzPq_dc5aSsl"
   },
   "source": [
    "**1. Mean Squared Error (MSE)**: 352,814.49\n",
    "- MSE đo lường trung bình bình phương của lỗi dự đoán. Giá trị cao của MSE cho thấy có sự chênh lệch đáng kể giữa giá trị thực tế và giá trị dự đoán.\n",
    "- Tuy nhiên, để đánh giá chính xác, MSE cần được so sánh với phạm vi hoặc phương sai của biến mục tiêu (số lượng bán ra trong trường hợp này).\n",
    "- Phương sai số lượng bán ra là 1,557,857.09, lớn hơn MSE (352,814.49), cho thấy mô hình đã phần nào nắm bắt được biến động trong dữ liệu nhưng vẫn có khoảng cách.\n",
    "  \n",
    "**2. Mean Absolute Error (MAE)**: 382.86\n",
    "- MAE đo lường trung bình độ lệch tuyệt đối giữa dự đoán và thực tế. Đây là chỉ số dễ hiểu và trực quan hơn so với MSE.\n",
    "- Với giá trị MAE = 382.86, lỗi trung bình trên mỗi dự đoán là khoảng 383 đơn vị. Nếu so với trung bình số lượng bán ra (1,022.80), thì sai số này chiếm khoảng 37.4%. Điều này có nghĩa là mô hình chưa thực sự chính xác.\n",
    "  \n",
    "**3. R² Score**: 0.7446\n",
    "- R² đo lường tỷ lệ phương sai của biến mục tiêu (số lượng bán ra) được giải thích bởi mô hình.\n",
    "- Giá trị R² = 0.7446 cho thấy mô hình giải thích được 74.46% sự biến động của dữ liệu. Đây là một kết quả khá tốt, nhưng vẫn còn khoảng 25.54% sự biến động chưa được giải thích.\n",
    "- Có thể cải thiện R² bằng cách:\n",
    "  + Thêm các biến độc lập (features) quan trọng chưa được sử dụng.\n",
    "  + Sử dụng các mô hình phi tuyến hoặc phức tạp hơn nếu dữ liệu không tuân theo mối quan hệ tuyến tính.\n",
    "    \n",
    "**4. Trung bình và Phương sai của số lượng bán ra**:\n",
    "- Trung bình số lượng bán ra: 1,022.80.\n",
    "- Phương sai số lượng bán ra: 1,557,857.09.\n",
    "- Dữ liệu có phương sai cao, cho thấy sự biến động lớn trong số lượng bán ra giữa các mẫu. Điều này có thể gây khó khăn cho mô hình đơn giản như Linear Regression trong việc dự đoán chính xác.\n",
    "  \n",
    "**5. Tổng quan đánh giá**:\n",
    "  + Ưu điểm:\n",
    "    + R² khá cao (0.7446), cho thấy mô hình giải thích được phần lớn biến động trong dữ liệu.\n",
    "    + Sai số tương đối (MAE so với trung bình) không quá lớn, cho thấy dự đoán có độ chính xác tương đối chấp nhận được.\n",
    "  + Hạn chế:\n",
    "    + Sai số (MAE) chiếm gần 37.4% giá trị trung bình số lượng bán ra, chưa thực sự tốt.\n",
    "    + MSE vẫn khá cao, cho thấy một số dự đoán có sai số lớn (outliers).\n",
    "  + Điều này có thể do dữ liệu không tuyến tính và có tương tác phức tạp hơn."
   ]
  },
  {
   "cell_type": "markdown",
   "metadata": {
    "id": "HKCC-y5hsrOB"
   },
   "source": [
    "Vì dữ liệu có mối quan hệ tuyến tính không mạnh nên nhóm quyết định sử dụng các mô hình giải quyết các mối quan hệ phức tạp. XGBoost là một trong những mô hình hiệu quả nhất."
   ]
  },
  {
   "cell_type": "code",
   "execution_count": 7,
   "metadata": {
    "id": "JQypKsaoa93I"
   },
   "outputs": [
    {
     "name": "stdout",
     "output_type": "stream",
     "text": [
      "MSE: 323864.7972073924\n",
      "MAE: 318.82455114650116\n",
      "R² Score: 0.7655742439720998\n",
      "Trung bình số lượng bán ra: 1022.7994891443167\n",
      "Phương sai số lượng bán ra: 1557857.0882042113\n"
     ]
    }
   ],
   "source": [
    "model = XGBRegressor(n_estimators=100, random_state=42)\n",
    "model.fit(X_train, y_train)\n",
    "y_pred = model.predict(X_test)\n",
    "mse = mean_squared_error(y_test, y_pred)\n",
    "print(\"MSE:\", mse)\n",
    "mae = mean_absolute_error(y_test, y_pred)\n",
    "print(\"MAE:\", mae)\n",
    "r2 = r2_score(y_test, y_pred)\n",
    "print(\"R² Score:\", r2)\n",
    "print(\"Trung bình số lượng bán ra:\", y.mean())\n",
    "print(\"Phương sai số lượng bán ra:\", y.var())"
   ]
  },
  {
   "cell_type": "markdown",
   "metadata": {
    "id": "bA5ffbD6a4vF"
   },
   "source": [
    "**1. Mean Squared Error (MSE)**: 323,864.80\n",
    "- Giảm đáng kể so với mô hình Linear Regression.\n",
    "- Điều này cho thấy XGBoost đã giảm thiểu các lỗi lớn (do MSE nhạy cảm với outliers).\n",
    "  \n",
    "**2. Mean Absolute Error (MAE)**: 318.82\n",
    "- Sai số trung bình giảm từ 382.86 xuống 318.82, nghĩa là XGBoost đưa ra dự đoán gần hơn với giá trị thực tế so với Linear Regression.\n",
    "- MAE hiện chỉ chiếm khoảng 31.2% trung bình số lượng bán ra (1,022.80), so với 37.4% trước đó.\n",
    "  \n",
    "**3. R² Score**: 0.7656\n",
    "- XGBoost giải thích được 76.56% sự biến động của số lượng bán ra, cao hơn Linear Regression (74.46%).\n",
    "- Đây là sự cải thiện hợp lý, thể hiện rằng mô hình phi tuyến như XGBoost phù hợp hơn với dữ liệu phức tạp.\n",
    "  \n",
    "**4. Tổng quan đánh giá**:\n",
    "  + Ưu điểm:\n",
    "    + R² khá cao (0.7656), cho thấy mô hình có sự dự đoán chính xác hơn Linear Regression.\n",
    "    + Sai số tương đối (MAE so với trung bình) cũng giảm đi đáng kể từ lỗi trung bình là 383 đơn vị xuống còn 319 đơn vị, như vậy, đã có sự dự đoán tốt hơn ở mô hình phức tạp hơn.\n",
    "  + Hạn chế: Nhìn chung, dù các chỉ số được cải thiện nhưng mô hình vẫn đạt kết quả chưa cao. Cần tìm ra các thuộc tính thích hợp để lỗi dự đoán là cực tiểu."
   ]
  },
  {
   "cell_type": "code",
   "execution_count": 8,
   "metadata": {
    "id": "dzDAQmyMwJGp"
   },
   "outputs": [],
   "source": [
    "# Nhóm quyết định loại bỏ thuộc tính current_price\n",
    "X = df[['category', 'n_review']]\n",
    "y = df['quantity']\n",
    "\n",
    "# Chuẩn hóa đữ liệu\n",
    "scaler = StandardScaler()\n",
    "X = scaler.fit_transform(X)\n",
    "\n",
    "# Chia dữ liệu thành các tập train và test\n",
    "X_train, X_test, y_train, y_test = train_test_split(X, y, test_size=0.2, random_state=42)"
   ]
  },
  {
   "cell_type": "code",
   "execution_count": 9,
   "metadata": {
    "id": "CtGIfv7NwpJM"
   },
   "outputs": [
    {
     "name": "stdout",
     "output_type": "stream",
     "text": [
      "MSE: 293609.4253309373\n",
      "MAE: 295.9232428836974\n",
      "R² Score: 0.7874742420182023\n",
      "Trung bình số lượng bán ra: 1022.7994891443167\n",
      "Phương sai số lượng bán ra: 1557857.0882042113\n"
     ]
    }
   ],
   "source": [
    "model = XGBRegressor(n_estimators=100, random_state=42)\n",
    "model.fit(X_train, y_train)\n",
    "y_pred = model.predict(X_test)\n",
    "mse = mean_squared_error(y_test, y_pred)\n",
    "print(\"MSE:\", mse)\n",
    "mae = mean_absolute_error(y_test, y_pred)\n",
    "print(\"MAE:\", mae)\n",
    "r2 = r2_score(y_test, y_pred)\n",
    "print(\"R² Score:\", r2)\n",
    "print(\"Trung bình số lượng bán ra:\", y.mean())\n",
    "print(\"Phương sai số lượng bán ra:\", y.var())"
   ]
  },
  {
   "cell_type": "markdown",
   "metadata": {
    "id": "mFYvIt5MbMs5"
   },
   "source": [
    "**1. Mean Squared Error (MSE)**: 293,609.43\n",
    "- MSE giảm đáng kể so với phiên bản trước (323,864.80) và giảm mạnh so với Linear Regression (352,814.49).\n",
    "- Điều này chứng minh rằng thuộc tính current_price có thể không đóng vai trò quan trọng trong việc dự đoán số lượng bán ra hoặc thậm chí gây nhiễu mô hình.\n",
    "  \n",
    "**2. Mean Absolute Error (MAE)**: 295.92\n",
    "- MAE tiếp tục giảm, nghĩa là sai số trung bình mỗi dự đoán giảm thêm so với trước đó.\n",
    "- Hiện tại, MAE chiếm khoảng 28.9% của giá trị trung bình số lượng bán ra (1,022.80), cải thiện hơn so với cả Linear Regression và phiên bản trước của XGBoost.\n",
    "  \n",
    "**3. R² Score**: 0.7875\n",
    "- Tăng từ 0.7656 lên 0.7875, chứng minh rằng việc loại bỏ current_price giúp mô hình giải thích thêm 2.19% sự biến động của dữ liệu.\n",
    "- Đây là dấu hiệu tích cực, cho thấy XGBoost đã tối ưu hóa hơn với ít đặc trưng hơn.\n",
    "  \n",
    "**4. Tổng quan đánh giá**:\n",
    "+ Việc loại bỏ thuộc tính current_price là một cải tiến hợp lý, giúp:\n",
    "  + Giảm sai số (MSE và MAE).\n",
    "  + Tăng khả năng giải thích dữ liệu (R² Score).\n",
    "  + Đơn giản hóa mô hình mà không làm mất nhiều thông tin quan trọng.\n",
    "  + Kết quả này nhấn mạnh tầm quan trọng của feature selection trong việc xây dựng mô hình dự đoán."
   ]
  },
  {
   "cell_type": "markdown",
   "metadata": {
    "id": "Wwe8oOeGybyq"
   },
   "source": [
    "# Phân tích kết quả"
   ]
  },
  {
   "cell_type": "markdown",
   "metadata": {
    "id": "-lj3JKClw0n5"
   },
   "source": [
    "- Khi xây dựng mô hình phức tạp hơn như XGBoost, kết quả dự đoán có xu hướng tốt hơn, MSE giảm từ 352,814.49 xuống còn 323,864.80, MAE giảm từ 382.86 xuống 318.82 cho thấy sai số trung bình giảm khoảng 64.04 đơn vị và R2 tăng từ 0.7446 lên 0.7656. Từ đó, ta thấy nên thử nhiều mô hình và có độ phức tạp nhất định để đạt được kết quả dự đoán tốt hơn.\n",
    "- Khi giữ lại 2 thuộc tính (`category`, `n_review`), MSE giảm từ 323,864.80 xuống 293,609.43, MAE giảm từ 318.82 xuống 295.92 cho thấy sai số trung bình giảm khoảng 22.9 đơn vị và R2 tăng từ 0.7656 lên 0.7875. Điều này cho thấy việc loại bỏ `current_price` giúp mô hình tập trung tốt hơn vào hai thuộc tính còn lại vì thuộc tính `current_price` không đóng vai trò quan trọng trong việc dự đoán số lượng bán ra hoặc thậm chí gây nhiễu mô hình.\n",
    "- Kết luận: Việc áp dụng mô hình phức tạp hơn như XGBoost và loại bỏ những thuộc tính không có ý nghĩa dự đoán như `current_price` đã giúp cải thiện hiệu suất mô hình."
   ]
  },
  {
   "cell_type": "code",
   "execution_count": null,
   "metadata": {
    "id": "zOpPDmFezCZV"
   },
   "outputs": [],
   "source": []
  }
 ],
 "metadata": {
  "colab": {
   "provenance": []
  },
  "kernelspec": {
   "display_name": "Python 3 (ipykernel)",
   "language": "python",
   "name": "python3"
  },
  "language_info": {
   "codemirror_mode": {
    "name": "ipython",
    "version": 3
   },
   "file_extension": ".py",
   "mimetype": "text/x-python",
   "name": "python",
   "nbconvert_exporter": "python",
   "pygments_lexer": "ipython3",
   "version": "3.10.8"
  }
 },
 "nbformat": 4,
 "nbformat_minor": 4
}
