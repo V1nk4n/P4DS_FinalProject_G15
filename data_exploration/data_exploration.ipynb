{
 "cells": [
  {
   "cell_type": "markdown",
   "id": "acb9ce44",
   "metadata": {},
   "source": [
    "# Import thư viện"
   ]
  },
  {
   "cell_type": "code",
   "execution_count": 1,
   "id": "24e234b3",
   "metadata": {},
   "outputs": [],
   "source": [
    "import numpy as np\n",
    "import pandas as pd\n",
    "import matplotlib.pyplot as plt\n",
    "import seaborn as sns\n",
    "from sklearn.preprocessing import LabelEncoder"
   ]
  },
  {
   "cell_type": "markdown",
   "id": "b6624a77",
   "metadata": {},
   "source": [
    "# Đọc dữ liệu"
   ]
  },
  {
   "cell_type": "code",
   "execution_count": 2,
   "id": "3e4c808b",
   "metadata": {},
   "outputs": [
    {
     "data": {
      "text/html": [
       "<div>\n",
       "<style scoped>\n",
       "    .dataframe tbody tr th:only-of-type {\n",
       "        vertical-align: middle;\n",
       "    }\n",
       "\n",
       "    .dataframe tbody tr th {\n",
       "        vertical-align: top;\n",
       "    }\n",
       "\n",
       "    .dataframe thead th {\n",
       "        text-align: right;\n",
       "    }\n",
       "</style>\n",
       "<table border=\"1\" class=\"dataframe\">\n",
       "  <thead>\n",
       "    <tr style=\"text-align: right;\">\n",
       "      <th></th>\n",
       "      <th>product_id</th>\n",
       "      <th>title</th>\n",
       "      <th>authors</th>\n",
       "      <th>original_price</th>\n",
       "      <th>current_price</th>\n",
       "      <th>quantity</th>\n",
       "      <th>category</th>\n",
       "      <th>n_review</th>\n",
       "      <th>avg_rating</th>\n",
       "      <th>pages</th>\n",
       "      <th>manufacturer</th>\n",
       "      <th>cover_link</th>\n",
       "    </tr>\n",
       "  </thead>\n",
       "  <tbody>\n",
       "    <tr>\n",
       "      <th>0</th>\n",
       "      <td>74021317</td>\n",
       "      <td>Cây Cam Ngọt Của Tôi</td>\n",
       "      <td>José Mauro de Vasconcelos</td>\n",
       "      <td>108000</td>\n",
       "      <td>64800</td>\n",
       "      <td>53075.0</td>\n",
       "      <td>Tiểu Thuyết</td>\n",
       "      <td>11481</td>\n",
       "      <td>5.0</td>\n",
       "      <td>244</td>\n",
       "      <td>Nhà Xuất Bản Hội Nhà Văn</td>\n",
       "      <td>https://salt.tikicdn.com/ts/product/5e/18/24/2...</td>\n",
       "    </tr>\n",
       "    <tr>\n",
       "      <th>1</th>\n",
       "      <td>74021317</td>\n",
       "      <td>Cây Cam Ngọt Của Tôi</td>\n",
       "      <td>José Mauro de Vasconcelos</td>\n",
       "      <td>108000</td>\n",
       "      <td>64800</td>\n",
       "      <td>53075.0</td>\n",
       "      <td>Tiểu Thuyết</td>\n",
       "      <td>11481</td>\n",
       "      <td>5.0</td>\n",
       "      <td>244</td>\n",
       "      <td>Nhà Xuất Bản Hội Nhà Văn</td>\n",
       "      <td>https://salt.tikicdn.com/ts/product/5e/18/24/2...</td>\n",
       "    </tr>\n",
       "    <tr>\n",
       "      <th>2</th>\n",
       "      <td>184466860</td>\n",
       "      <td>Hành Tinh Của Một Kẻ Nghĩ Nhiều</td>\n",
       "      <td>Nguyễn Đoàn Minh Thư</td>\n",
       "      <td>86000</td>\n",
       "      <td>59900</td>\n",
       "      <td>7929.0</td>\n",
       "      <td>Sách tư duy - Kỹ năng sống</td>\n",
       "      <td>780</td>\n",
       "      <td>4.8</td>\n",
       "      <td>184</td>\n",
       "      <td>Nhà Xuất Bản Thế Giới</td>\n",
       "      <td>https://salt.tikicdn.com/ts/product/d7/99/24/1...</td>\n",
       "    </tr>\n",
       "    <tr>\n",
       "      <th>3</th>\n",
       "      <td>73787185</td>\n",
       "      <td>Những Tù Nhân Của Địa Lý</td>\n",
       "      <td>Tim Marshall</td>\n",
       "      <td>210000</td>\n",
       "      <td>126000</td>\n",
       "      <td>17896.0</td>\n",
       "      <td>Lĩnh vực khác</td>\n",
       "      <td>3623</td>\n",
       "      <td>4.8</td>\n",
       "      <td>430</td>\n",
       "      <td>Nhà Xuất Bản Hội Nhà Văn</td>\n",
       "      <td>https://salt.tikicdn.com/ts/product/8d/96/9e/c...</td>\n",
       "    </tr>\n",
       "    <tr>\n",
       "      <th>4</th>\n",
       "      <td>52789367</td>\n",
       "      <td>Nhà Giả Kim (Tái Bản 2020)</td>\n",
       "      <td>Paulo Coelho</td>\n",
       "      <td>79000</td>\n",
       "      <td>47400</td>\n",
       "      <td>24668.0</td>\n",
       "      <td>Tác phẩm kinh điển</td>\n",
       "      <td>5131</td>\n",
       "      <td>5.0</td>\n",
       "      <td>228</td>\n",
       "      <td>Nhà Xuất Bản Hà Nội</td>\n",
       "      <td>https://salt.tikicdn.com/ts/product/45/3b/fc/a...</td>\n",
       "    </tr>\n",
       "  </tbody>\n",
       "</table>\n",
       "</div>"
      ],
      "text/plain": [
       "   product_id                            title                    authors  \\\n",
       "0    74021317             Cây Cam Ngọt Của Tôi  José Mauro de Vasconcelos   \n",
       "1    74021317             Cây Cam Ngọt Của Tôi  José Mauro de Vasconcelos   \n",
       "2   184466860  Hành Tinh Của Một Kẻ Nghĩ Nhiều       Nguyễn Đoàn Minh Thư   \n",
       "3    73787185         Những Tù Nhân Của Địa Lý               Tim Marshall   \n",
       "4    52789367       Nhà Giả Kim (Tái Bản 2020)               Paulo Coelho   \n",
       "\n",
       "   original_price  current_price  quantity                    category  \\\n",
       "0          108000          64800   53075.0                 Tiểu Thuyết   \n",
       "1          108000          64800   53075.0                 Tiểu Thuyết   \n",
       "2           86000          59900    7929.0  Sách tư duy - Kỹ năng sống   \n",
       "3          210000         126000   17896.0               Lĩnh vực khác   \n",
       "4           79000          47400   24668.0          Tác phẩm kinh điển   \n",
       "\n",
       "   n_review  avg_rating pages              manufacturer  \\\n",
       "0     11481         5.0   244  Nhà Xuất Bản Hội Nhà Văn   \n",
       "1     11481         5.0   244  Nhà Xuất Bản Hội Nhà Văn   \n",
       "2       780         4.8   184     Nhà Xuất Bản Thế Giới   \n",
       "3      3623         4.8   430  Nhà Xuất Bản Hội Nhà Văn   \n",
       "4      5131         5.0   228       Nhà Xuất Bản Hà Nội   \n",
       "\n",
       "                                          cover_link  \n",
       "0  https://salt.tikicdn.com/ts/product/5e/18/24/2...  \n",
       "1  https://salt.tikicdn.com/ts/product/5e/18/24/2...  \n",
       "2  https://salt.tikicdn.com/ts/product/d7/99/24/1...  \n",
       "3  https://salt.tikicdn.com/ts/product/8d/96/9e/c...  \n",
       "4  https://salt.tikicdn.com/ts/product/45/3b/fc/a...  "
      ]
     },
     "execution_count": 2,
     "metadata": {},
     "output_type": "execute_result"
    }
   ],
   "source": [
    "df = pd.read_csv('../dataset/book_data.csv')\n",
    "df.head()"
   ]
  },
  {
   "cell_type": "markdown",
   "id": "b16902b3",
   "metadata": {},
   "source": [
    "# Khám phá và tiền xử lý dữ liệu"
   ]
  },
  {
   "cell_type": "markdown",
   "id": "50620d39",
   "metadata": {},
   "source": [
    "## Ý nghĩa của các dòng và các cột"
   ]
  },
  {
   "cell_type": "code",
   "execution_count": 3,
   "id": "8693505e",
   "metadata": {},
   "outputs": [
    {
     "name": "stdout",
     "output_type": "stream",
     "text": [
      "<class 'pandas.core.frame.DataFrame'>\n",
      "RangeIndex: 1796 entries, 0 to 1795\n",
      "Data columns (total 12 columns):\n",
      " #   Column          Non-Null Count  Dtype  \n",
      "---  ------          --------------  -----  \n",
      " 0   product_id      1796 non-null   int64  \n",
      " 1   title           1796 non-null   object \n",
      " 2   authors         1653 non-null   object \n",
      " 3   original_price  1796 non-null   int64  \n",
      " 4   current_price   1796 non-null   int64  \n",
      " 5   quantity        1751 non-null   float64\n",
      " 6   category        1796 non-null   object \n",
      " 7   n_review        1796 non-null   int64  \n",
      " 8   avg_rating      1796 non-null   float64\n",
      " 9   pages           1546 non-null   object \n",
      " 10  manufacturer    1523 non-null   object \n",
      " 11  cover_link      1796 non-null   object \n",
      "dtypes: float64(2), int64(4), object(6)\n",
      "memory usage: 168.5+ KB\n"
     ]
    }
   ],
   "source": [
    "df.info()"
   ]
  },
  {
   "cell_type": "markdown",
   "id": "d2274571",
   "metadata": {},
   "source": [
    "Dữ liệu có 1796 dòng và 12 cột\n",
    "\n",
    "Mỗi dòng dữ liệu là thông tin về một quyển sách được bán trên sàn thương mại điện tử Tiki Việt Nam.\n",
    "\n",
    "Ý nghĩa của các cột:\n",
    "- product_id: mã sản phẩm\n",
    "- title: tên sách\n",
    "- authors: tác giả\n",
    "- original_price: giá gốc\n",
    "- current_price: giá hiện tại\n",
    "- quantity: số lượng\n",
    "- category: phân loại\n",
    "- n_review: số lượt đánh giá\n",
    "- avg_rating: điểm đánh giá trung bình\n",
    "- pages: số trang\n",
    "- manufacturer: nhà sản xuất\n",
    "- cover_link: đường dẫn đến ảnh trang bìa"
   ]
  },
  {
   "cell_type": "markdown",
   "id": "6848a7fd",
   "metadata": {},
   "source": [
    "Cột cover_link không mang ý nghĩa phân tích nên ta xóa cột này đi."
   ]
  },
  {
   "cell_type": "code",
   "execution_count": 4,
   "id": "123cdf0e",
   "metadata": {},
   "outputs": [
    {
     "data": {
      "text/html": [
       "<div>\n",
       "<style scoped>\n",
       "    .dataframe tbody tr th:only-of-type {\n",
       "        vertical-align: middle;\n",
       "    }\n",
       "\n",
       "    .dataframe tbody tr th {\n",
       "        vertical-align: top;\n",
       "    }\n",
       "\n",
       "    .dataframe thead th {\n",
       "        text-align: right;\n",
       "    }\n",
       "</style>\n",
       "<table border=\"1\" class=\"dataframe\">\n",
       "  <thead>\n",
       "    <tr style=\"text-align: right;\">\n",
       "      <th></th>\n",
       "      <th>product_id</th>\n",
       "      <th>title</th>\n",
       "      <th>authors</th>\n",
       "      <th>original_price</th>\n",
       "      <th>current_price</th>\n",
       "      <th>quantity</th>\n",
       "      <th>category</th>\n",
       "      <th>n_review</th>\n",
       "      <th>avg_rating</th>\n",
       "      <th>pages</th>\n",
       "      <th>manufacturer</th>\n",
       "    </tr>\n",
       "  </thead>\n",
       "  <tbody>\n",
       "    <tr>\n",
       "      <th>0</th>\n",
       "      <td>74021317</td>\n",
       "      <td>Cây Cam Ngọt Của Tôi</td>\n",
       "      <td>José Mauro de Vasconcelos</td>\n",
       "      <td>108000</td>\n",
       "      <td>64800</td>\n",
       "      <td>53075.0</td>\n",
       "      <td>Tiểu Thuyết</td>\n",
       "      <td>11481</td>\n",
       "      <td>5.0</td>\n",
       "      <td>244</td>\n",
       "      <td>Nhà Xuất Bản Hội Nhà Văn</td>\n",
       "    </tr>\n",
       "    <tr>\n",
       "      <th>1</th>\n",
       "      <td>74021317</td>\n",
       "      <td>Cây Cam Ngọt Của Tôi</td>\n",
       "      <td>José Mauro de Vasconcelos</td>\n",
       "      <td>108000</td>\n",
       "      <td>64800</td>\n",
       "      <td>53075.0</td>\n",
       "      <td>Tiểu Thuyết</td>\n",
       "      <td>11481</td>\n",
       "      <td>5.0</td>\n",
       "      <td>244</td>\n",
       "      <td>Nhà Xuất Bản Hội Nhà Văn</td>\n",
       "    </tr>\n",
       "    <tr>\n",
       "      <th>2</th>\n",
       "      <td>184466860</td>\n",
       "      <td>Hành Tinh Của Một Kẻ Nghĩ Nhiều</td>\n",
       "      <td>Nguyễn Đoàn Minh Thư</td>\n",
       "      <td>86000</td>\n",
       "      <td>59900</td>\n",
       "      <td>7929.0</td>\n",
       "      <td>Sách tư duy - Kỹ năng sống</td>\n",
       "      <td>780</td>\n",
       "      <td>4.8</td>\n",
       "      <td>184</td>\n",
       "      <td>Nhà Xuất Bản Thế Giới</td>\n",
       "    </tr>\n",
       "    <tr>\n",
       "      <th>3</th>\n",
       "      <td>73787185</td>\n",
       "      <td>Những Tù Nhân Của Địa Lý</td>\n",
       "      <td>Tim Marshall</td>\n",
       "      <td>210000</td>\n",
       "      <td>126000</td>\n",
       "      <td>17896.0</td>\n",
       "      <td>Lĩnh vực khác</td>\n",
       "      <td>3623</td>\n",
       "      <td>4.8</td>\n",
       "      <td>430</td>\n",
       "      <td>Nhà Xuất Bản Hội Nhà Văn</td>\n",
       "    </tr>\n",
       "    <tr>\n",
       "      <th>4</th>\n",
       "      <td>52789367</td>\n",
       "      <td>Nhà Giả Kim (Tái Bản 2020)</td>\n",
       "      <td>Paulo Coelho</td>\n",
       "      <td>79000</td>\n",
       "      <td>47400</td>\n",
       "      <td>24668.0</td>\n",
       "      <td>Tác phẩm kinh điển</td>\n",
       "      <td>5131</td>\n",
       "      <td>5.0</td>\n",
       "      <td>228</td>\n",
       "      <td>Nhà Xuất Bản Hà Nội</td>\n",
       "    </tr>\n",
       "  </tbody>\n",
       "</table>\n",
       "</div>"
      ],
      "text/plain": [
       "   product_id                            title                    authors  \\\n",
       "0    74021317             Cây Cam Ngọt Của Tôi  José Mauro de Vasconcelos   \n",
       "1    74021317             Cây Cam Ngọt Của Tôi  José Mauro de Vasconcelos   \n",
       "2   184466860  Hành Tinh Của Một Kẻ Nghĩ Nhiều       Nguyễn Đoàn Minh Thư   \n",
       "3    73787185         Những Tù Nhân Của Địa Lý               Tim Marshall   \n",
       "4    52789367       Nhà Giả Kim (Tái Bản 2020)               Paulo Coelho   \n",
       "\n",
       "   original_price  current_price  quantity                    category  \\\n",
       "0          108000          64800   53075.0                 Tiểu Thuyết   \n",
       "1          108000          64800   53075.0                 Tiểu Thuyết   \n",
       "2           86000          59900    7929.0  Sách tư duy - Kỹ năng sống   \n",
       "3          210000         126000   17896.0               Lĩnh vực khác   \n",
       "4           79000          47400   24668.0          Tác phẩm kinh điển   \n",
       "\n",
       "   n_review  avg_rating pages              manufacturer  \n",
       "0     11481         5.0   244  Nhà Xuất Bản Hội Nhà Văn  \n",
       "1     11481         5.0   244  Nhà Xuất Bản Hội Nhà Văn  \n",
       "2       780         4.8   184     Nhà Xuất Bản Thế Giới  \n",
       "3      3623         4.8   430  Nhà Xuất Bản Hội Nhà Văn  \n",
       "4      5131         5.0   228       Nhà Xuất Bản Hà Nội  "
      ]
     },
     "execution_count": 4,
     "metadata": {},
     "output_type": "execute_result"
    }
   ],
   "source": [
    "df = df.drop(columns=['cover_link'])\n",
    "df.head()"
   ]
  },
  {
   "cell_type": "markdown",
   "id": "89586b26",
   "metadata": {},
   "source": [
    "## Các dòng bị trùng lặp"
   ]
  },
  {
   "cell_type": "code",
   "execution_count": 5,
   "id": "b0015ed8",
   "metadata": {},
   "outputs": [
    {
     "name": "stdout",
     "output_type": "stream",
     "text": [
      "Số dòng dữ liệu trùng lặp là 19.\n"
     ]
    }
   ],
   "source": [
    "num_duplicated = df.duplicated().sum()\n",
    "print(f'Số dòng dữ liệu trùng lặp là {num_duplicated}.')"
   ]
  },
  {
   "cell_type": "markdown",
   "id": "1455de6e",
   "metadata": {},
   "source": [
    "Ta tiến hành xóa các dòng bị trùng lặp"
   ]
  },
  {
   "cell_type": "code",
   "execution_count": 6,
   "id": "374c08e8",
   "metadata": {},
   "outputs": [],
   "source": [
    "df = df.drop_duplicates()"
   ]
  },
  {
   "cell_type": "code",
   "execution_count": 7,
   "id": "43a75e52",
   "metadata": {},
   "outputs": [
    {
     "name": "stdout",
     "output_type": "stream",
     "text": [
      "Số dòng dữ liệu trùng lặp là 0.\n",
      "Số dòng dữ liệu còn lại là 1777\n"
     ]
    }
   ],
   "source": [
    "num_duplicated = df.duplicated().sum()\n",
    "print(f'Số dòng dữ liệu trùng lặp là {num_duplicated}.')\n",
    "print(f'Số dòng dữ liệu còn lại là {df.shape[0]}')"
   ]
  },
  {
   "cell_type": "markdown",
   "id": "7966c851",
   "metadata": {},
   "source": [
    "## Kiểu dữ liệu của cột chưa phù hợp"
   ]
  },
  {
   "cell_type": "code",
   "execution_count": 8,
   "id": "326cc013",
   "metadata": {},
   "outputs": [
    {
     "data": {
      "text/plain": [
       "product_id          int64\n",
       "title              object\n",
       "authors            object\n",
       "original_price      int64\n",
       "current_price       int64\n",
       "quantity          float64\n",
       "category           object\n",
       "n_review            int64\n",
       "avg_rating        float64\n",
       "pages              object\n",
       "manufacturer       object\n",
       "dtype: object"
      ]
     },
     "execution_count": 8,
     "metadata": {},
     "output_type": "execute_result"
    }
   ],
   "source": [
    "df.dtypes"
   ]
  },
  {
   "cell_type": "code",
   "execution_count": 9,
   "id": "ecb21c57",
   "metadata": {},
   "outputs": [],
   "source": [
    "# df.title = df.title.astype(\"category\")\n",
    "# df.authors = df.authors.astype(\"category\")\n",
    "# df.category = df.category.astype(\"category\")\n",
    "# df.manufacturer = df.manufacturer.astype(\"category\")"
   ]
  },
  {
   "cell_type": "markdown",
   "id": "99965c72",
   "metadata": {},
   "source": [
    "Cột quantity là số lượng quyển sách phải ở kiểu int64, ta sẽ thực hiện ép kiểu sau các thao tác như điền dữ liệu bị thiếu.\n",
    "\n",
    "Cột pages là số trang nhưng lại có kiểu là object do đó ta tiến hình ép kiểu của pages thành float64 để thuận tiện cho các thao tác sau. Sau khi đã hoàn thành các thao tác xong ta ép về kiểu int64."
   ]
  },
  {
   "cell_type": "code",
   "execution_count": 10,
   "id": "262e9a5b",
   "metadata": {},
   "outputs": [
    {
     "data": {
      "text/plain": [
       "0       244.0\n",
       "2       184.0\n",
       "3       430.0\n",
       "4       228.0\n",
       "5       304.0\n",
       "        ...  \n",
       "1791      NaN\n",
       "1792    236.0\n",
       "1793    296.0\n",
       "1794    436.0\n",
       "1795    256.0\n",
       "Name: pages, Length: 1777, dtype: float64"
      ]
     },
     "execution_count": 10,
     "metadata": {},
     "output_type": "execute_result"
    }
   ],
   "source": [
    "df['pages'] = pd.to_numeric(df['pages'], errors='coerce')\n",
    "df['pages']"
   ]
  },
  {
   "cell_type": "code",
   "execution_count": 11,
   "id": "1de16f41",
   "metadata": {},
   "outputs": [],
   "source": [
    "df['pages'] = df['pages'].astype('float64')"
   ]
  },
  {
   "cell_type": "markdown",
   "id": "2d01888d",
   "metadata": {},
   "source": [
    "## Kiểm tra các cột dữ liệu bị thiếu"
   ]
  },
  {
   "cell_type": "code",
   "execution_count": 12,
   "id": "46eeafd8",
   "metadata": {},
   "outputs": [
    {
     "data": {
      "text/plain": [
       "product_id          0\n",
       "title               0\n",
       "authors           140\n",
       "original_price      0\n",
       "current_price       0\n",
       "quantity           45\n",
       "category            0\n",
       "n_review            0\n",
       "avg_rating          0\n",
       "pages             251\n",
       "manufacturer      265\n",
       "dtype: int64"
      ]
     },
     "execution_count": 12,
     "metadata": {},
     "output_type": "execute_result"
    }
   ],
   "source": [
    "df.isnull().sum()"
   ]
  },
  {
   "cell_type": "markdown",
   "id": "8acd94ba",
   "metadata": {},
   "source": [
    "Các cột có dữ liệu bị thiếu là: authors, quantity, pages và manufacturer"
   ]
  },
  {
   "cell_type": "markdown",
   "id": "10d99787",
   "metadata": {},
   "source": [
    "## Các cột dữ liệu phân loại"
   ]
  },
  {
   "cell_type": "code",
   "execution_count": 13,
   "id": "11b551cc",
   "metadata": {
    "scrolled": true
   },
   "outputs": [
    {
     "name": "stdout",
     "output_type": "stream",
     "text": [
      "Các cột có kiểu dữ liệu categorical: ['title', 'authors', 'category', 'manufacturer']\n"
     ]
    }
   ],
   "source": [
    "categorical_cols = df.select_dtypes(include = 'object').columns.tolist()\n",
    "print(f'Các cột có kiểu dữ liệu categorical: {categorical_cols}')"
   ]
  },
  {
   "cell_type": "markdown",
   "id": "cb0b1671",
   "metadata": {},
   "source": [
    "### Cột title"
   ]
  },
  {
   "cell_type": "markdown",
   "id": "10a495ac",
   "metadata": {},
   "source": [
    "Ta xóa các quyển sách có tên trùng nhau."
   ]
  },
  {
   "cell_type": "code",
   "execution_count": 14,
   "id": "fc3f2700",
   "metadata": {},
   "outputs": [],
   "source": [
    "df = df.drop_duplicates(subset=['title'])"
   ]
  },
  {
   "cell_type": "markdown",
   "id": "5437d532",
   "metadata": {},
   "source": [
    "### Cột authors"
   ]
  },
  {
   "cell_type": "code",
   "execution_count": 15,
   "id": "ec8d27a3",
   "metadata": {},
   "outputs": [
    {
     "name": "stdout",
     "output_type": "stream",
     "text": [
      "Số lượng các tác giả khác nhau là: 1083\n"
     ]
    },
    {
     "data": {
      "text/plain": [
       "Nguyễn Nhật Ánh    24\n",
       "Higashino Keigo    20\n",
       ".                  18\n",
       "Thích Nhất Hạnh    16\n",
       "Haruki Murakami    15\n",
       "                   ..\n",
       "Urako Kanamori      1\n",
       "Cổ Viên             1\n",
       "Robert Winston      1\n",
       "Yongchul Kwon       1\n",
       "John C. Maxwell     1\n",
       "Name: authors, Length: 1083, dtype: int64"
      ]
     },
     "execution_count": 15,
     "metadata": {},
     "output_type": "execute_result"
    }
   ],
   "source": [
    "print(f'Số lượng các tác giả khác nhau là: {df.authors.nunique()}')\n",
    "df.authors.value_counts()"
   ]
  },
  {
   "cell_type": "markdown",
   "id": "2cd94224",
   "metadata": {},
   "source": [
    "Có 18 quyển sách có tác già là \".\", ta tiến hành thay thế các dòng này thành \"Không rõ\""
   ]
  },
  {
   "cell_type": "code",
   "execution_count": 16,
   "id": "2aeb0d18",
   "metadata": {},
   "outputs": [],
   "source": [
    "df.loc[df.authors == '.' , 'authors'] = \"Không rõ\""
   ]
  },
  {
   "cell_type": "code",
   "execution_count": 17,
   "id": "7e465fd1",
   "metadata": {},
   "outputs": [
    {
     "name": "stdout",
     "output_type": "stream",
     "text": [
      "Số lượng các tác giả khác nhau là: 1083\n"
     ]
    },
    {
     "data": {
      "text/plain": [
       "Nguyễn Nhật Ánh    24\n",
       "Higashino Keigo    20\n",
       "Không rõ           18\n",
       "Thích Nhất Hạnh    16\n",
       "Haruki Murakami    15\n",
       "                   ..\n",
       "Urako Kanamori      1\n",
       "Cổ Viên             1\n",
       "Robert Winston      1\n",
       "Yongchul Kwon       1\n",
       "John C. Maxwell     1\n",
       "Name: authors, Length: 1083, dtype: int64"
      ]
     },
     "execution_count": 17,
     "metadata": {},
     "output_type": "execute_result"
    }
   ],
   "source": [
    "print(f'Số lượng các tác giả khác nhau là: {df.authors.nunique()}')\n",
    "df.authors.value_counts()"
   ]
  },
  {
   "cell_type": "code",
   "execution_count": 18,
   "id": "5d8f259b",
   "metadata": {},
   "outputs": [
    {
     "name": "stdout",
     "output_type": "stream",
     "text": [
      "Phần trăm giá trị thiếu trong cột 'authors': 7.80%\n"
     ]
    }
   ],
   "source": [
    "# Tính phần trăm giá trị thiếu trong cột 'authors'\n",
    "missing_percentage = df['authors'].isna().mean() * 100\n",
    "\n",
    "# In kết quả\n",
    "print(f\"Phần trăm giá trị thiếu trong cột 'authors': {missing_percentage:.2f}%\")"
   ]
  },
  {
   "cell_type": "code",
   "execution_count": 19,
   "id": "7bc9d09f",
   "metadata": {},
   "outputs": [],
   "source": [
    "df.authors = df.authors.fillna(\"Không rõ\")"
   ]
  },
  {
   "cell_type": "code",
   "execution_count": 20,
   "id": "8bed18db",
   "metadata": {},
   "outputs": [
    {
     "name": "stdout",
     "output_type": "stream",
     "text": [
      "Phần trăm giá trị thiếu trong cột 'authors': 0.00%\n"
     ]
    }
   ],
   "source": [
    "# Tính phần trăm giá trị thiếu trong cột 'authors'\n",
    "missing_percentage = df['authors'].isna().mean() * 100\n",
    "# In kết quả\n",
    "print(f\"Phần trăm giá trị thiếu trong cột 'authors': {missing_percentage:.2f}%\")"
   ]
  },
  {
   "cell_type": "markdown",
   "id": "8f47fc58",
   "metadata": {},
   "source": [
    "### Cột category"
   ]
  },
  {
   "cell_type": "code",
   "execution_count": 21,
   "id": "db919516",
   "metadata": {},
   "outputs": [
    {
     "name": "stdout",
     "output_type": "stream",
     "text": [
      "Số lượng các thể loại khác nhau là: 354\n"
     ]
    },
    {
     "data": {
      "text/plain": [
       "Sách tư duy - Kỹ năng sống                 292\n",
       "Tiểu Thuyết                                133\n",
       "Truyện ngắn - Tản văn - Tạp Văn            109\n",
       "Sách nghệ thuật sống đẹp                    58\n",
       "Sách kỹ năng làm việc                       55\n",
       "                                          ... \n",
       "Shaman King - Tập 19                         1\n",
       "Blue Period - Tập 07                         1\n",
       "Komi - Nữ Thần Sợ Giao Tiếp - Tập 14         1\n",
       "Bên Rặng Tuyết Sơn (Tái Bản)                 1\n",
       "Kaguya-Sama: Cuộc Chiến Tỏ Tình - Tập 3      1\n",
       "Name: category, Length: 354, dtype: int64"
      ]
     },
     "execution_count": 21,
     "metadata": {},
     "output_type": "execute_result"
    }
   ],
   "source": [
    "print(f'Số lượng các thể loại khác nhau là: {df.category.nunique()}')\n",
    "category_counts = df.category.value_counts()\n",
    "category_counts "
   ]
  },
  {
   "cell_type": "markdown",
   "id": "bfc0b650",
   "metadata": {},
   "source": [
    "Có quá nhiều thể loại, đăc biệt có những thể loại chỉ có 1 quyển sách và ta thấy rằng nó giống tên của quyển sách hơn là thể loại. Do đó ta chuyển các category này thành Khác"
   ]
  },
  {
   "cell_type": "code",
   "execution_count": 22,
   "id": "41871173",
   "metadata": {},
   "outputs": [
    {
     "data": {
      "text/plain": [
       "Index(['Thiền Tập Cho Người Bận Rộn (Tbl12)', 'Blue Flag - Tập 3',\n",
       "       'Đọc Hiểu Kết Quả Xét Nghiệm Máu  (Tái Bản)',\n",
       "       'Dưới Hiên Nhà Bà Già Đọc Boyslove - 1', 'Thực Hành Thiền Định',\n",
       "       '666 Satan Tập 4 [Tặng Kèm Bookmark Nhân Vật]',\n",
       "       'Vivre Card - Thẻ Dữ Liệu Nhân Vật One Piece Booster Pack - Thợ Đóng Tàu Hàng Đầu Thế Giới! Galleyla-Company!!',\n",
       "       'Gửi Em, Người Bất Tử - Tập 2 (Tái Bản 2022)', 'Shaman King - Tập 18',\n",
       "       'Doraemon Movie Story: Nobita Và Viện Bảo Tàng Bảo Bối',\n",
       "       ...\n",
       "       'Ăn Uống Đúng Cách: Bộ Quy Tắc Ẩm Thực Lành Mạnh',\n",
       "       'Những Chàng Trai Ở Lộc Phong Quán – Tập 11', 'Đi Hát Karaoke Đi',\n",
       "       'Vua Sáng Chế Tập 22', 'Bá Tước Tiểu Thư - Tập 5',\n",
       "       'Shaman King - Tập 19', 'Blue Period - Tập 07',\n",
       "       'Komi - Nữ Thần Sợ Giao Tiếp - Tập 14', 'Bên Rặng Tuyết Sơn (Tái Bản)',\n",
       "       'Kaguya-Sama: Cuộc Chiến Tỏ Tình - Tập 3'],\n",
       "      dtype='object', length=285)"
      ]
     },
     "execution_count": 22,
     "metadata": {},
     "output_type": "execute_result"
    }
   ],
   "source": [
    "categories_only_one = category_counts[category_counts == 1].index\n",
    "categories_only_one"
   ]
  },
  {
   "cell_type": "code",
   "execution_count": 23,
   "id": "e5a7b8e3",
   "metadata": {},
   "outputs": [
    {
     "name": "stdout",
     "output_type": "stream",
     "text": [
      "Số lượng các thể loại khác nhau là: 70\n",
      "Sách tư duy - Kỹ năng sống         292\n",
      "Khác                               285\n",
      "Tiểu Thuyết                        133\n",
      "Truyện ngắn - Tản văn - Tạp Văn    109\n",
      "Sách nghệ thuật sống đẹp            58\n",
      "                                  ... \n",
      "Truyện kiếm hiệp                     2\n",
      "Sách Thai Giáo                       2\n",
      "Sách tài chính, kế toán              2\n",
      "Sách Học Tiếng Nhật                  2\n",
      "Lý Luận Chính Trị                    2\n",
      "Name: category, Length: 70, dtype: int64\n"
     ]
    }
   ],
   "source": [
    "df['category'] = df['category'].apply(lambda x: 'Khác' if x in categories_only_one else x)\n",
    "\n",
    "# In kết quả\n",
    "print(f'Số lượng các thể loại khác nhau là: {df.category.nunique()}')\n",
    "print(df['category'].value_counts())"
   ]
  },
  {
   "cell_type": "markdown",
   "id": "b43ac428",
   "metadata": {},
   "source": [
    "### Cột manufacturer"
   ]
  },
  {
   "cell_type": "code",
   "execution_count": 24,
   "id": "170bad2a",
   "metadata": {},
   "outputs": [
    {
     "name": "stdout",
     "output_type": "stream",
     "text": [
      "Số lượng các nhà xuất bản khác nhau là: 41\n"
     ]
    },
    {
     "data": {
      "text/plain": [
       "Nhà Xuất Bản Thế Giới                            247\n",
       "NXB Trẻ                                          143\n",
       "Nhà Xuất Bản Hà Nội                              128\n",
       "Nhà Xuất Bản Dân Trí                             126\n",
       "Nhà Xuất Bản Kim Đồng                            113\n",
       "Nhà Xuất Bản Hội Nhà Văn                         111\n",
       "Nhà Xuất Bản Thanh Niên                           97\n",
       "Nhà Xuất Bản Tổng hợp TP.HCM                      91\n",
       "Nhà Xuất Bản Lao Động                             89\n",
       "Nhà Xuất Bản Văn Học                              77\n",
       "Nhà Xuất Bản Hồng Đức                             56\n",
       "Nhà Xuất Bản Công Thương                          46\n",
       "Nhà Xuất Bản Phụ Nữ Việt Nam                      38\n",
       "Nhà Xuất Bản Phụ Nữ                               30\n",
       "Nhà Xuất Bản Đà Nẵng                              17\n",
       "Nhà Xuất Bản Đại Học Quốc Gia Hà Nội              13\n",
       "Nhà Xuất Bản Mỹ Thuật                              8\n",
       "Nhà Xuất Bản Tri Thức                              7\n",
       "Nhà Xuất Bản Lao Động Xã Hội                       7\n",
       "NXB Dân Trí                                        6\n",
       "Nhiều Nhà Xuất Bản                                 6\n",
       "Nhà Xuất Bản Khoa Học Xã Hội                       5\n",
       "Nhà Xuất Bản Tài Chính                             5\n",
       "Nhà Xuất Bản Chính Trị Quốc Gia Sự Thật            4\n",
       "Nhà Xuất Bản Thông Tin Và Truyền Thông             3\n",
       "hong duc                                           3\n",
       "Nhà Xuất Bản Văn Hóa - Văn Nghệ TP.HCM             3\n",
       "Nhà Xuất Bản Kinh Tế TPHCM                         3\n",
       "Nhà Xuất Bản Đồng Nai                              3\n",
       "NXB Đại học Kinh Tế Quốc Dân                       3\n",
       "Nhà Xuất Bản Thông Tấn                             2\n",
       "Nhà Xuất Bản Đại Học Kinh Tế Quốc Dân              2\n",
       "Forbes Việt Nam                                    2\n",
       "Nhà Xuất Bản Khoa học & kỹ thuật                   2\n",
       "Nhà Xuất Bản Tôn Giáo                              2\n",
       "Nhà Xuất Bản Văn Hoá Dân Tộc                       1\n",
       "ĐHQG Hà Nội                                        1\n",
       "Nhà Xuất Bản Hồng Đức - Hội Luật Gia Việt Nam      1\n",
       "Nhà Xuất Bản Compass Publishing                    1\n",
       "Nhà Xuất Bản Thời Đại                              1\n",
       "Nhà Xuất Bản Giáo Dục Việt Nam                     1\n",
       "Name: manufacturer, dtype: int64"
      ]
     },
     "execution_count": 24,
     "metadata": {},
     "output_type": "execute_result"
    }
   ],
   "source": [
    "print(f'Số lượng các nhà xuất bản khác nhau là: {df.manufacturer.nunique()}')\n",
    "df.manufacturer.value_counts()"
   ]
  },
  {
   "cell_type": "markdown",
   "id": "94dfa4b6",
   "metadata": {},
   "source": [
    "Có những giá trị có cách thể hiện khác nhau:\n",
    "- Nhà Xuất Bản Hồng Đức & hong duc\n",
    "- Nhà Xuất Bản Dân Trí & NXB Dân Trí\n",
    "- Nhà Xuất Bản Đại Học Quốc Gia Hà Nội & ĐHQG Hà Nội"
   ]
  },
  {
   "cell_type": "code",
   "execution_count": 25,
   "id": "969688c2",
   "metadata": {},
   "outputs": [],
   "source": [
    "def handle_manufactuner(manufactuner):\n",
    "    if manufactuner == \"hong duc\":\n",
    "        return \"Nhà Xuất Bản Hồng Đức\"\n",
    "    elif manufactuner == \"NXB Dân Trí\":\n",
    "        return \"Nhà Xuất Bản Dân Trí\"\n",
    "    elif manufactuner == \"ĐHQG Hà Nội\":\n",
    "        return \"Nhà Xuất Bản Đại Học Quốc Gia Hà Nội\"\n",
    "    else:\n",
    "        return manufactuner\n",
    "    \n",
    "df.manufacturer = df.manufacturer.apply(lambda manufacturer: handle_manufactuner(manufacturer))"
   ]
  },
  {
   "cell_type": "code",
   "execution_count": 26,
   "id": "649638f2",
   "metadata": {},
   "outputs": [
    {
     "name": "stdout",
     "output_type": "stream",
     "text": [
      "Phần trăm giá trị thiếu trong cột 'manufacturer': 14.98%\n"
     ]
    }
   ],
   "source": [
    "# Tính phần trăm giá trị thiếu\n",
    "missing_manufacturer = df['manufacturer'].isna().mean() * 100\n",
    "print(f\"Phần trăm giá trị thiếu trong cột 'manufacturer': {missing_manufacturer:.2f}%\")"
   ]
  },
  {
   "cell_type": "markdown",
   "id": "f952eb7e",
   "metadata": {},
   "source": [
    "Xử lý các giá trị null bằng cách điền vào Unknown"
   ]
  },
  {
   "cell_type": "code",
   "execution_count": 27,
   "id": "a84a3e8e",
   "metadata": {},
   "outputs": [],
   "source": [
    "df.manufacturer = df.manufacturer.fillna(\"Không rõ\")"
   ]
  },
  {
   "cell_type": "code",
   "execution_count": 28,
   "id": "c8cf8f31",
   "metadata": {},
   "outputs": [
    {
     "name": "stdout",
     "output_type": "stream",
     "text": [
      "Phần trăm giá trị thiếu trong cột 'manufacturer': 0.00%\n"
     ]
    }
   ],
   "source": [
    "# Tính phần trăm giá trị thiếu\n",
    "missing_manufacturer = df['manufacturer'].isna().mean() * 100\n",
    "print(f\"Phần trăm giá trị thiếu trong cột 'manufacturer': {missing_manufacturer:.2f}%\")"
   ]
  },
  {
   "cell_type": "code",
   "execution_count": 29,
   "id": "974831c0",
   "metadata": {},
   "outputs": [
    {
     "name": "stdout",
     "output_type": "stream",
     "text": [
      "Số lượng các nhà xuất bản khác nhau là: 39\n"
     ]
    },
    {
     "data": {
      "text/plain": [
       "Không rõ                                         265\n",
       "Nhà Xuất Bản Thế Giới                            247\n",
       "NXB Trẻ                                          143\n",
       "Nhà Xuất Bản Dân Trí                             132\n",
       "Nhà Xuất Bản Hà Nội                              128\n",
       "Nhà Xuất Bản Kim Đồng                            113\n",
       "Nhà Xuất Bản Hội Nhà Văn                         111\n",
       "Nhà Xuất Bản Thanh Niên                           97\n",
       "Nhà Xuất Bản Tổng hợp TP.HCM                      91\n",
       "Nhà Xuất Bản Lao Động                             89\n",
       "Nhà Xuất Bản Văn Học                              77\n",
       "Nhà Xuất Bản Hồng Đức                             59\n",
       "Nhà Xuất Bản Công Thương                          46\n",
       "Nhà Xuất Bản Phụ Nữ Việt Nam                      38\n",
       "Nhà Xuất Bản Phụ Nữ                               30\n",
       "Nhà Xuất Bản Đà Nẵng                              17\n",
       "Nhà Xuất Bản Đại Học Quốc Gia Hà Nội              14\n",
       "Nhà Xuất Bản Mỹ Thuật                              8\n",
       "Nhà Xuất Bản Tri Thức                              7\n",
       "Nhà Xuất Bản Lao Động Xã Hội                       7\n",
       "Nhiều Nhà Xuất Bản                                 6\n",
       "Nhà Xuất Bản Khoa Học Xã Hội                       5\n",
       "Nhà Xuất Bản Tài Chính                             5\n",
       "Nhà Xuất Bản Chính Trị Quốc Gia Sự Thật            4\n",
       "NXB Đại học Kinh Tế Quốc Dân                       3\n",
       "Nhà Xuất Bản Đồng Nai                              3\n",
       "Nhà Xuất Bản Thông Tin Và Truyền Thông             3\n",
       "Nhà Xuất Bản Kinh Tế TPHCM                         3\n",
       "Nhà Xuất Bản Văn Hóa - Văn Nghệ TP.HCM             3\n",
       "Nhà Xuất Bản Đại Học Kinh Tế Quốc Dân              2\n",
       "Forbes Việt Nam                                    2\n",
       "Nhà Xuất Bản Thông Tấn                             2\n",
       "Nhà Xuất Bản Khoa học & kỹ thuật                   2\n",
       "Nhà Xuất Bản Tôn Giáo                              2\n",
       "Nhà Xuất Bản Văn Hoá Dân Tộc                       1\n",
       "Nhà Xuất Bản Hồng Đức - Hội Luật Gia Việt Nam      1\n",
       "Nhà Xuất Bản Compass Publishing                    1\n",
       "Nhà Xuất Bản Thời Đại                              1\n",
       "Nhà Xuất Bản Giáo Dục Việt Nam                     1\n",
       "Name: manufacturer, dtype: int64"
      ]
     },
     "execution_count": 29,
     "metadata": {},
     "output_type": "execute_result"
    }
   ],
   "source": [
    "print(f'Số lượng các nhà xuất bản khác nhau là: {df.manufacturer.nunique()}')\n",
    "df.manufacturer.value_counts()"
   ]
  },
  {
   "cell_type": "code",
   "execution_count": 30,
   "id": "4e8a817d",
   "metadata": {},
   "outputs": [
    {
     "data": {
      "text/html": [
       "<div>\n",
       "<style scoped>\n",
       "    .dataframe tbody tr th:only-of-type {\n",
       "        vertical-align: middle;\n",
       "    }\n",
       "\n",
       "    .dataframe tbody tr th {\n",
       "        vertical-align: top;\n",
       "    }\n",
       "\n",
       "    .dataframe thead th {\n",
       "        text-align: right;\n",
       "    }\n",
       "</style>\n",
       "<table border=\"1\" class=\"dataframe\">\n",
       "  <thead>\n",
       "    <tr style=\"text-align: right;\">\n",
       "      <th></th>\n",
       "      <th>product_id</th>\n",
       "      <th>title</th>\n",
       "      <th>authors</th>\n",
       "      <th>original_price</th>\n",
       "      <th>current_price</th>\n",
       "      <th>quantity</th>\n",
       "      <th>category</th>\n",
       "      <th>n_review</th>\n",
       "      <th>avg_rating</th>\n",
       "      <th>pages</th>\n",
       "      <th>manufacturer</th>\n",
       "    </tr>\n",
       "  </thead>\n",
       "  <tbody>\n",
       "    <tr>\n",
       "      <th>0</th>\n",
       "      <td>74021317</td>\n",
       "      <td>Cây Cam Ngọt Của Tôi</td>\n",
       "      <td>José Mauro de Vasconcelos</td>\n",
       "      <td>108000</td>\n",
       "      <td>64800</td>\n",
       "      <td>53075.0</td>\n",
       "      <td>Tiểu Thuyết</td>\n",
       "      <td>11481</td>\n",
       "      <td>5.0</td>\n",
       "      <td>244.0</td>\n",
       "      <td>Nhà Xuất Bản Hội Nhà Văn</td>\n",
       "    </tr>\n",
       "    <tr>\n",
       "      <th>2</th>\n",
       "      <td>184466860</td>\n",
       "      <td>Hành Tinh Của Một Kẻ Nghĩ Nhiều</td>\n",
       "      <td>Nguyễn Đoàn Minh Thư</td>\n",
       "      <td>86000</td>\n",
       "      <td>59900</td>\n",
       "      <td>7929.0</td>\n",
       "      <td>Sách tư duy - Kỹ năng sống</td>\n",
       "      <td>780</td>\n",
       "      <td>4.8</td>\n",
       "      <td>184.0</td>\n",
       "      <td>Nhà Xuất Bản Thế Giới</td>\n",
       "    </tr>\n",
       "    <tr>\n",
       "      <th>3</th>\n",
       "      <td>73787185</td>\n",
       "      <td>Những Tù Nhân Của Địa Lý</td>\n",
       "      <td>Tim Marshall</td>\n",
       "      <td>210000</td>\n",
       "      <td>126000</td>\n",
       "      <td>17896.0</td>\n",
       "      <td>Lĩnh vực khác</td>\n",
       "      <td>3623</td>\n",
       "      <td>4.8</td>\n",
       "      <td>430.0</td>\n",
       "      <td>Nhà Xuất Bản Hội Nhà Văn</td>\n",
       "    </tr>\n",
       "    <tr>\n",
       "      <th>4</th>\n",
       "      <td>52789367</td>\n",
       "      <td>Nhà Giả Kim (Tái Bản 2020)</td>\n",
       "      <td>Paulo Coelho</td>\n",
       "      <td>79000</td>\n",
       "      <td>47400</td>\n",
       "      <td>24668.0</td>\n",
       "      <td>Tác phẩm kinh điển</td>\n",
       "      <td>5131</td>\n",
       "      <td>5.0</td>\n",
       "      <td>228.0</td>\n",
       "      <td>Nhà Xuất Bản Hà Nội</td>\n",
       "    </tr>\n",
       "    <tr>\n",
       "      <th>5</th>\n",
       "      <td>147920903</td>\n",
       "      <td>Một Thoáng Ta Rực Rỡ Ở Nhân Gian</td>\n",
       "      <td>Không rõ</td>\n",
       "      <td>135000</td>\n",
       "      <td>81000</td>\n",
       "      <td>10000.0</td>\n",
       "      <td>Tiểu Thuyết</td>\n",
       "      <td>1636</td>\n",
       "      <td>4.8</td>\n",
       "      <td>304.0</td>\n",
       "      <td>Nhà Xuất Bản Hội Nhà Văn</td>\n",
       "    </tr>\n",
       "  </tbody>\n",
       "</table>\n",
       "</div>"
      ],
      "text/plain": [
       "   product_id                             title                    authors  \\\n",
       "0    74021317              Cây Cam Ngọt Của Tôi  José Mauro de Vasconcelos   \n",
       "2   184466860   Hành Tinh Của Một Kẻ Nghĩ Nhiều       Nguyễn Đoàn Minh Thư   \n",
       "3    73787185          Những Tù Nhân Của Địa Lý               Tim Marshall   \n",
       "4    52789367        Nhà Giả Kim (Tái Bản 2020)               Paulo Coelho   \n",
       "5   147920903  Một Thoáng Ta Rực Rỡ Ở Nhân Gian                   Không rõ   \n",
       "\n",
       "   original_price  current_price  quantity                    category  \\\n",
       "0          108000          64800   53075.0                 Tiểu Thuyết   \n",
       "2           86000          59900    7929.0  Sách tư duy - Kỹ năng sống   \n",
       "3          210000         126000   17896.0               Lĩnh vực khác   \n",
       "4           79000          47400   24668.0          Tác phẩm kinh điển   \n",
       "5          135000          81000   10000.0                 Tiểu Thuyết   \n",
       "\n",
       "   n_review  avg_rating  pages              manufacturer  \n",
       "0     11481         5.0  244.0  Nhà Xuất Bản Hội Nhà Văn  \n",
       "2       780         4.8  184.0     Nhà Xuất Bản Thế Giới  \n",
       "3      3623         4.8  430.0  Nhà Xuất Bản Hội Nhà Văn  \n",
       "4      5131         5.0  228.0       Nhà Xuất Bản Hà Nội  \n",
       "5      1636         4.8  304.0  Nhà Xuất Bản Hội Nhà Văn  "
      ]
     },
     "execution_count": 30,
     "metadata": {},
     "output_type": "execute_result"
    }
   ],
   "source": [
    "df.head()"
   ]
  },
  {
   "cell_type": "markdown",
   "id": "ad82170c",
   "metadata": {},
   "source": [
    "## Các cột dữ liệu số"
   ]
  },
  {
   "cell_type": "code",
   "execution_count": 31,
   "id": "c3ac8fea",
   "metadata": {},
   "outputs": [
    {
     "name": "stdout",
     "output_type": "stream",
     "text": [
      "Các cột có kiểu dữ liệu số: ['product_id', 'original_price', 'current_price', 'quantity', 'n_review', 'avg_rating', 'pages']\n"
     ]
    }
   ],
   "source": [
    "# Lấy danh sách tên cột dữ liệu dạng numeric\n",
    "numeric_cols = df.select_dtypes(include = ['int64', 'float64']).columns.tolist()\n",
    "print(f'Các cột có kiểu dữ liệu số: {numeric_cols}')"
   ]
  },
  {
   "cell_type": "markdown",
   "id": "825307d4",
   "metadata": {},
   "source": [
    "### Xử lý giá trị thiếu"
   ]
  },
  {
   "cell_type": "code",
   "execution_count": 32,
   "id": "203d47de",
   "metadata": {},
   "outputs": [
    {
     "name": "stdout",
     "output_type": "stream",
     "text": [
      "Phần trăm giá trị còn thiếu của product_id là 0.0%\n",
      "Phần trăm giá trị còn thiếu của original_price là 0.0%\n",
      "Phần trăm giá trị còn thiếu của current_price là 0.0%\n",
      "Phần trăm giá trị còn thiếu của quantity là 2.317693612210288%\n",
      "Phần trăm giá trị còn thiếu của n_review là 0.0%\n",
      "Phần trăm giá trị còn thiếu của avg_rating là 0.0%\n",
      "Phần trăm giá trị còn thiếu của pages là 13.962690785754663%\n"
     ]
    }
   ],
   "source": [
    "missing_dict = {}\n",
    "for col in numeric_cols:\n",
    "  missing = df[col].isna().mean() *100\n",
    "  missing_dict[col] = missing\n",
    "  print(f'Phần trăm giá trị còn thiếu của {col} là {missing}%')"
   ]
  },
  {
   "cell_type": "markdown",
   "id": "9470a5ff",
   "metadata": {},
   "source": [
    "Xử lý missing value bằng cách điền vào trung bình theo các nhóm phân loại."
   ]
  },
  {
   "cell_type": "code",
   "execution_count": 33,
   "id": "50bc7a5c",
   "metadata": {},
   "outputs": [
    {
     "data": {
      "text/html": [
       "<div>\n",
       "<style scoped>\n",
       "    .dataframe tbody tr th:only-of-type {\n",
       "        vertical-align: middle;\n",
       "    }\n",
       "\n",
       "    .dataframe tbody tr th {\n",
       "        vertical-align: top;\n",
       "    }\n",
       "\n",
       "    .dataframe thead th {\n",
       "        text-align: right;\n",
       "    }\n",
       "</style>\n",
       "<table border=\"1\" class=\"dataframe\">\n",
       "  <thead>\n",
       "    <tr style=\"text-align: right;\">\n",
       "      <th></th>\n",
       "      <th>product_id</th>\n",
       "      <th>title</th>\n",
       "      <th>authors</th>\n",
       "      <th>original_price</th>\n",
       "      <th>current_price</th>\n",
       "      <th>quantity</th>\n",
       "      <th>category</th>\n",
       "      <th>n_review</th>\n",
       "      <th>avg_rating</th>\n",
       "      <th>pages</th>\n",
       "      <th>manufacturer</th>\n",
       "    </tr>\n",
       "  </thead>\n",
       "  <tbody>\n",
       "    <tr>\n",
       "      <th>0</th>\n",
       "      <td>74021317</td>\n",
       "      <td>Cây Cam Ngọt Của Tôi</td>\n",
       "      <td>José Mauro de Vasconcelos</td>\n",
       "      <td>108000</td>\n",
       "      <td>64800</td>\n",
       "      <td>53075.0</td>\n",
       "      <td>Tiểu Thuyết</td>\n",
       "      <td>11481</td>\n",
       "      <td>5.0</td>\n",
       "      <td>244</td>\n",
       "      <td>Nhà Xuất Bản Hội Nhà Văn</td>\n",
       "    </tr>\n",
       "    <tr>\n",
       "      <th>2</th>\n",
       "      <td>184466860</td>\n",
       "      <td>Hành Tinh Của Một Kẻ Nghĩ Nhiều</td>\n",
       "      <td>Nguyễn Đoàn Minh Thư</td>\n",
       "      <td>86000</td>\n",
       "      <td>59900</td>\n",
       "      <td>7929.0</td>\n",
       "      <td>Sách tư duy - Kỹ năng sống</td>\n",
       "      <td>780</td>\n",
       "      <td>4.8</td>\n",
       "      <td>184</td>\n",
       "      <td>Nhà Xuất Bản Thế Giới</td>\n",
       "    </tr>\n",
       "    <tr>\n",
       "      <th>3</th>\n",
       "      <td>73787185</td>\n",
       "      <td>Những Tù Nhân Của Địa Lý</td>\n",
       "      <td>Tim Marshall</td>\n",
       "      <td>210000</td>\n",
       "      <td>126000</td>\n",
       "      <td>17896.0</td>\n",
       "      <td>Lĩnh vực khác</td>\n",
       "      <td>3623</td>\n",
       "      <td>4.8</td>\n",
       "      <td>430</td>\n",
       "      <td>Nhà Xuất Bản Hội Nhà Văn</td>\n",
       "    </tr>\n",
       "    <tr>\n",
       "      <th>4</th>\n",
       "      <td>52789367</td>\n",
       "      <td>Nhà Giả Kim (Tái Bản 2020)</td>\n",
       "      <td>Paulo Coelho</td>\n",
       "      <td>79000</td>\n",
       "      <td>47400</td>\n",
       "      <td>24668.0</td>\n",
       "      <td>Tác phẩm kinh điển</td>\n",
       "      <td>5131</td>\n",
       "      <td>5.0</td>\n",
       "      <td>228</td>\n",
       "      <td>Nhà Xuất Bản Hà Nội</td>\n",
       "    </tr>\n",
       "    <tr>\n",
       "      <th>5</th>\n",
       "      <td>147920903</td>\n",
       "      <td>Một Thoáng Ta Rực Rỡ Ở Nhân Gian</td>\n",
       "      <td>Không rõ</td>\n",
       "      <td>135000</td>\n",
       "      <td>81000</td>\n",
       "      <td>10000.0</td>\n",
       "      <td>Tiểu Thuyết</td>\n",
       "      <td>1636</td>\n",
       "      <td>4.8</td>\n",
       "      <td>304</td>\n",
       "      <td>Nhà Xuất Bản Hội Nhà Văn</td>\n",
       "    </tr>\n",
       "    <tr>\n",
       "      <th>...</th>\n",
       "      <td>...</td>\n",
       "      <td>...</td>\n",
       "      <td>...</td>\n",
       "      <td>...</td>\n",
       "      <td>...</td>\n",
       "      <td>...</td>\n",
       "      <td>...</td>\n",
       "      <td>...</td>\n",
       "      <td>...</td>\n",
       "      <td>...</td>\n",
       "      <td>...</td>\n",
       "    </tr>\n",
       "    <tr>\n",
       "      <th>1791</th>\n",
       "      <td>192949122</td>\n",
       "      <td>7 Thói Quen Hiệu Quả - The 7 Habits Of Highly ...</td>\n",
       "      <td>Stephen R Covey</td>\n",
       "      <td>250000</td>\n",
       "      <td>191200</td>\n",
       "      <td>76.0</td>\n",
       "      <td>Sách tư duy - Kỹ năng sống</td>\n",
       "      <td>7</td>\n",
       "      <td>5.0</td>\n",
       "      <td>318</td>\n",
       "      <td>Nhà Xuất Bản Tổng hợp TP.HCM</td>\n",
       "    </tr>\n",
       "    <tr>\n",
       "      <th>1792</th>\n",
       "      <td>157579054</td>\n",
       "      <td>Các Vấn Đề Của Triết Học (The Problems Of Phil...</td>\n",
       "      <td>Bertrand Russell</td>\n",
       "      <td>85000</td>\n",
       "      <td>48900</td>\n",
       "      <td>147.0</td>\n",
       "      <td>Triết Học</td>\n",
       "      <td>20</td>\n",
       "      <td>5.0</td>\n",
       "      <td>236</td>\n",
       "      <td>Nhà Xuất Bản Khoa Học Xã Hội</td>\n",
       "    </tr>\n",
       "    <tr>\n",
       "      <th>1793</th>\n",
       "      <td>20704715</td>\n",
       "      <td>Để Con Được Chích - Hiểu Hết Về Vắc Xin Và Miễ...</td>\n",
       "      <td>Uyên Bùi</td>\n",
       "      <td>108000</td>\n",
       "      <td>43200</td>\n",
       "      <td>931.0</td>\n",
       "      <td>Sách Làm Cha Mẹ</td>\n",
       "      <td>47</td>\n",
       "      <td>4.6</td>\n",
       "      <td>296</td>\n",
       "      <td>Không rõ</td>\n",
       "    </tr>\n",
       "    <tr>\n",
       "      <th>1794</th>\n",
       "      <td>131144753</td>\n",
       "      <td>Nhà Lãnh Đạo 360 Độ (Tái Bản)</td>\n",
       "      <td>John C. Maxwell</td>\n",
       "      <td>179000</td>\n",
       "      <td>107500</td>\n",
       "      <td>378.0</td>\n",
       "      <td>Sách quản trị, lãnh đạo</td>\n",
       "      <td>33</td>\n",
       "      <td>5.0</td>\n",
       "      <td>436</td>\n",
       "      <td>Nhà Xuất Bản Lao Động</td>\n",
       "    </tr>\n",
       "    <tr>\n",
       "      <th>1795</th>\n",
       "      <td>58971672</td>\n",
       "      <td>The Best of Chicken Soup - Tuyển Tập Những Câu...</td>\n",
       "      <td>Jack Canfield</td>\n",
       "      <td>138000</td>\n",
       "      <td>91000</td>\n",
       "      <td>954.0</td>\n",
       "      <td>Sách nghệ thuật sống đẹp</td>\n",
       "      <td>176</td>\n",
       "      <td>5.0</td>\n",
       "      <td>256</td>\n",
       "      <td>Nhà Xuất Bản Tổng hợp TP.HCM</td>\n",
       "    </tr>\n",
       "  </tbody>\n",
       "</table>\n",
       "<p>1769 rows × 11 columns</p>\n",
       "</div>"
      ],
      "text/plain": [
       "      product_id                                              title  \\\n",
       "0       74021317                               Cây Cam Ngọt Của Tôi   \n",
       "2      184466860                    Hành Tinh Của Một Kẻ Nghĩ Nhiều   \n",
       "3       73787185                           Những Tù Nhân Của Địa Lý   \n",
       "4       52789367                         Nhà Giả Kim (Tái Bản 2020)   \n",
       "5      147920903                   Một Thoáng Ta Rực Rỡ Ở Nhân Gian   \n",
       "...          ...                                                ...   \n",
       "1791   192949122  7 Thói Quen Hiệu Quả - The 7 Habits Of Highly ...   \n",
       "1792   157579054  Các Vấn Đề Của Triết Học (The Problems Of Phil...   \n",
       "1793    20704715  Để Con Được Chích - Hiểu Hết Về Vắc Xin Và Miễ...   \n",
       "1794   131144753                      Nhà Lãnh Đạo 360 Độ (Tái Bản)   \n",
       "1795    58971672  The Best of Chicken Soup - Tuyển Tập Những Câu...   \n",
       "\n",
       "                        authors  original_price  current_price  quantity  \\\n",
       "0     José Mauro de Vasconcelos          108000          64800   53075.0   \n",
       "2          Nguyễn Đoàn Minh Thư           86000          59900    7929.0   \n",
       "3                  Tim Marshall          210000         126000   17896.0   \n",
       "4                  Paulo Coelho           79000          47400   24668.0   \n",
       "5                      Không rõ          135000          81000   10000.0   \n",
       "...                         ...             ...            ...       ...   \n",
       "1791            Stephen R Covey          250000         191200      76.0   \n",
       "1792           Bertrand Russell           85000          48900     147.0   \n",
       "1793                   Uyên Bùi          108000          43200     931.0   \n",
       "1794            John C. Maxwell          179000         107500     378.0   \n",
       "1795              Jack Canfield          138000          91000     954.0   \n",
       "\n",
       "                        category  n_review  avg_rating  pages  \\\n",
       "0                    Tiểu Thuyết     11481         5.0    244   \n",
       "2     Sách tư duy - Kỹ năng sống       780         4.8    184   \n",
       "3                  Lĩnh vực khác      3623         4.8    430   \n",
       "4             Tác phẩm kinh điển      5131         5.0    228   \n",
       "5                    Tiểu Thuyết      1636         4.8    304   \n",
       "...                          ...       ...         ...    ...   \n",
       "1791  Sách tư duy - Kỹ năng sống         7         5.0    318   \n",
       "1792                   Triết Học        20         5.0    236   \n",
       "1793             Sách Làm Cha Mẹ        47         4.6    296   \n",
       "1794     Sách quản trị, lãnh đạo        33         5.0    436   \n",
       "1795    Sách nghệ thuật sống đẹp       176         5.0    256   \n",
       "\n",
       "                      manufacturer  \n",
       "0         Nhà Xuất Bản Hội Nhà Văn  \n",
       "2            Nhà Xuất Bản Thế Giới  \n",
       "3         Nhà Xuất Bản Hội Nhà Văn  \n",
       "4              Nhà Xuất Bản Hà Nội  \n",
       "5         Nhà Xuất Bản Hội Nhà Văn  \n",
       "...                            ...  \n",
       "1791  Nhà Xuất Bản Tổng hợp TP.HCM  \n",
       "1792  Nhà Xuất Bản Khoa Học Xã Hội  \n",
       "1793                      Không rõ  \n",
       "1794         Nhà Xuất Bản Lao Động  \n",
       "1795  Nhà Xuất Bản Tổng hợp TP.HCM  \n",
       "\n",
       "[1769 rows x 11 columns]"
      ]
     },
     "execution_count": 33,
     "metadata": {},
     "output_type": "execute_result"
    }
   ],
   "source": [
    "# Tính trung bình của 'pages' theo từng 'category'\n",
    "df['pages'] = df.groupby('category')['pages'].transform(lambda x: x.fillna(x.mean()))\n",
    "df['pages'] = df['pages'].round().astype('int64')\n",
    "df"
   ]
  },
  {
   "cell_type": "code",
   "execution_count": 34,
   "id": "d7a643d2",
   "metadata": {},
   "outputs": [
    {
     "data": {
      "text/html": [
       "<div>\n",
       "<style scoped>\n",
       "    .dataframe tbody tr th:only-of-type {\n",
       "        vertical-align: middle;\n",
       "    }\n",
       "\n",
       "    .dataframe tbody tr th {\n",
       "        vertical-align: top;\n",
       "    }\n",
       "\n",
       "    .dataframe thead th {\n",
       "        text-align: right;\n",
       "    }\n",
       "</style>\n",
       "<table border=\"1\" class=\"dataframe\">\n",
       "  <thead>\n",
       "    <tr style=\"text-align: right;\">\n",
       "      <th></th>\n",
       "      <th>product_id</th>\n",
       "      <th>title</th>\n",
       "      <th>authors</th>\n",
       "      <th>original_price</th>\n",
       "      <th>current_price</th>\n",
       "      <th>quantity</th>\n",
       "      <th>category</th>\n",
       "      <th>n_review</th>\n",
       "      <th>avg_rating</th>\n",
       "      <th>pages</th>\n",
       "      <th>manufacturer</th>\n",
       "    </tr>\n",
       "  </thead>\n",
       "  <tbody>\n",
       "    <tr>\n",
       "      <th>0</th>\n",
       "      <td>74021317</td>\n",
       "      <td>Cây Cam Ngọt Của Tôi</td>\n",
       "      <td>José Mauro de Vasconcelos</td>\n",
       "      <td>108000</td>\n",
       "      <td>64800</td>\n",
       "      <td>53075</td>\n",
       "      <td>Tiểu Thuyết</td>\n",
       "      <td>11481</td>\n",
       "      <td>5.0</td>\n",
       "      <td>244</td>\n",
       "      <td>Nhà Xuất Bản Hội Nhà Văn</td>\n",
       "    </tr>\n",
       "    <tr>\n",
       "      <th>2</th>\n",
       "      <td>184466860</td>\n",
       "      <td>Hành Tinh Của Một Kẻ Nghĩ Nhiều</td>\n",
       "      <td>Nguyễn Đoàn Minh Thư</td>\n",
       "      <td>86000</td>\n",
       "      <td>59900</td>\n",
       "      <td>7929</td>\n",
       "      <td>Sách tư duy - Kỹ năng sống</td>\n",
       "      <td>780</td>\n",
       "      <td>4.8</td>\n",
       "      <td>184</td>\n",
       "      <td>Nhà Xuất Bản Thế Giới</td>\n",
       "    </tr>\n",
       "    <tr>\n",
       "      <th>3</th>\n",
       "      <td>73787185</td>\n",
       "      <td>Những Tù Nhân Của Địa Lý</td>\n",
       "      <td>Tim Marshall</td>\n",
       "      <td>210000</td>\n",
       "      <td>126000</td>\n",
       "      <td>17896</td>\n",
       "      <td>Lĩnh vực khác</td>\n",
       "      <td>3623</td>\n",
       "      <td>4.8</td>\n",
       "      <td>430</td>\n",
       "      <td>Nhà Xuất Bản Hội Nhà Văn</td>\n",
       "    </tr>\n",
       "    <tr>\n",
       "      <th>4</th>\n",
       "      <td>52789367</td>\n",
       "      <td>Nhà Giả Kim (Tái Bản 2020)</td>\n",
       "      <td>Paulo Coelho</td>\n",
       "      <td>79000</td>\n",
       "      <td>47400</td>\n",
       "      <td>24668</td>\n",
       "      <td>Tác phẩm kinh điển</td>\n",
       "      <td>5131</td>\n",
       "      <td>5.0</td>\n",
       "      <td>228</td>\n",
       "      <td>Nhà Xuất Bản Hà Nội</td>\n",
       "    </tr>\n",
       "    <tr>\n",
       "      <th>5</th>\n",
       "      <td>147920903</td>\n",
       "      <td>Một Thoáng Ta Rực Rỡ Ở Nhân Gian</td>\n",
       "      <td>Không rõ</td>\n",
       "      <td>135000</td>\n",
       "      <td>81000</td>\n",
       "      <td>10000</td>\n",
       "      <td>Tiểu Thuyết</td>\n",
       "      <td>1636</td>\n",
       "      <td>4.8</td>\n",
       "      <td>304</td>\n",
       "      <td>Nhà Xuất Bản Hội Nhà Văn</td>\n",
       "    </tr>\n",
       "    <tr>\n",
       "      <th>...</th>\n",
       "      <td>...</td>\n",
       "      <td>...</td>\n",
       "      <td>...</td>\n",
       "      <td>...</td>\n",
       "      <td>...</td>\n",
       "      <td>...</td>\n",
       "      <td>...</td>\n",
       "      <td>...</td>\n",
       "      <td>...</td>\n",
       "      <td>...</td>\n",
       "      <td>...</td>\n",
       "    </tr>\n",
       "    <tr>\n",
       "      <th>1791</th>\n",
       "      <td>192949122</td>\n",
       "      <td>7 Thói Quen Hiệu Quả - The 7 Habits Of Highly ...</td>\n",
       "      <td>Stephen R Covey</td>\n",
       "      <td>250000</td>\n",
       "      <td>191200</td>\n",
       "      <td>76</td>\n",
       "      <td>Sách tư duy - Kỹ năng sống</td>\n",
       "      <td>7</td>\n",
       "      <td>5.0</td>\n",
       "      <td>318</td>\n",
       "      <td>Nhà Xuất Bản Tổng hợp TP.HCM</td>\n",
       "    </tr>\n",
       "    <tr>\n",
       "      <th>1792</th>\n",
       "      <td>157579054</td>\n",
       "      <td>Các Vấn Đề Của Triết Học (The Problems Of Phil...</td>\n",
       "      <td>Bertrand Russell</td>\n",
       "      <td>85000</td>\n",
       "      <td>48900</td>\n",
       "      <td>147</td>\n",
       "      <td>Triết Học</td>\n",
       "      <td>20</td>\n",
       "      <td>5.0</td>\n",
       "      <td>236</td>\n",
       "      <td>Nhà Xuất Bản Khoa Học Xã Hội</td>\n",
       "    </tr>\n",
       "    <tr>\n",
       "      <th>1793</th>\n",
       "      <td>20704715</td>\n",
       "      <td>Để Con Được Chích - Hiểu Hết Về Vắc Xin Và Miễ...</td>\n",
       "      <td>Uyên Bùi</td>\n",
       "      <td>108000</td>\n",
       "      <td>43200</td>\n",
       "      <td>931</td>\n",
       "      <td>Sách Làm Cha Mẹ</td>\n",
       "      <td>47</td>\n",
       "      <td>4.6</td>\n",
       "      <td>296</td>\n",
       "      <td>Không rõ</td>\n",
       "    </tr>\n",
       "    <tr>\n",
       "      <th>1794</th>\n",
       "      <td>131144753</td>\n",
       "      <td>Nhà Lãnh Đạo 360 Độ (Tái Bản)</td>\n",
       "      <td>John C. Maxwell</td>\n",
       "      <td>179000</td>\n",
       "      <td>107500</td>\n",
       "      <td>378</td>\n",
       "      <td>Sách quản trị, lãnh đạo</td>\n",
       "      <td>33</td>\n",
       "      <td>5.0</td>\n",
       "      <td>436</td>\n",
       "      <td>Nhà Xuất Bản Lao Động</td>\n",
       "    </tr>\n",
       "    <tr>\n",
       "      <th>1795</th>\n",
       "      <td>58971672</td>\n",
       "      <td>The Best of Chicken Soup - Tuyển Tập Những Câu...</td>\n",
       "      <td>Jack Canfield</td>\n",
       "      <td>138000</td>\n",
       "      <td>91000</td>\n",
       "      <td>954</td>\n",
       "      <td>Sách nghệ thuật sống đẹp</td>\n",
       "      <td>176</td>\n",
       "      <td>5.0</td>\n",
       "      <td>256</td>\n",
       "      <td>Nhà Xuất Bản Tổng hợp TP.HCM</td>\n",
       "    </tr>\n",
       "  </tbody>\n",
       "</table>\n",
       "<p>1769 rows × 11 columns</p>\n",
       "</div>"
      ],
      "text/plain": [
       "      product_id                                              title  \\\n",
       "0       74021317                               Cây Cam Ngọt Của Tôi   \n",
       "2      184466860                    Hành Tinh Của Một Kẻ Nghĩ Nhiều   \n",
       "3       73787185                           Những Tù Nhân Của Địa Lý   \n",
       "4       52789367                         Nhà Giả Kim (Tái Bản 2020)   \n",
       "5      147920903                   Một Thoáng Ta Rực Rỡ Ở Nhân Gian   \n",
       "...          ...                                                ...   \n",
       "1791   192949122  7 Thói Quen Hiệu Quả - The 7 Habits Of Highly ...   \n",
       "1792   157579054  Các Vấn Đề Của Triết Học (The Problems Of Phil...   \n",
       "1793    20704715  Để Con Được Chích - Hiểu Hết Về Vắc Xin Và Miễ...   \n",
       "1794   131144753                      Nhà Lãnh Đạo 360 Độ (Tái Bản)   \n",
       "1795    58971672  The Best of Chicken Soup - Tuyển Tập Những Câu...   \n",
       "\n",
       "                        authors  original_price  current_price  quantity  \\\n",
       "0     José Mauro de Vasconcelos          108000          64800     53075   \n",
       "2          Nguyễn Đoàn Minh Thư           86000          59900      7929   \n",
       "3                  Tim Marshall          210000         126000     17896   \n",
       "4                  Paulo Coelho           79000          47400     24668   \n",
       "5                      Không rõ          135000          81000     10000   \n",
       "...                         ...             ...            ...       ...   \n",
       "1791            Stephen R Covey          250000         191200        76   \n",
       "1792           Bertrand Russell           85000          48900       147   \n",
       "1793                   Uyên Bùi          108000          43200       931   \n",
       "1794            John C. Maxwell          179000         107500       378   \n",
       "1795              Jack Canfield          138000          91000       954   \n",
       "\n",
       "                        category  n_review  avg_rating  pages  \\\n",
       "0                    Tiểu Thuyết     11481         5.0    244   \n",
       "2     Sách tư duy - Kỹ năng sống       780         4.8    184   \n",
       "3                  Lĩnh vực khác      3623         4.8    430   \n",
       "4             Tác phẩm kinh điển      5131         5.0    228   \n",
       "5                    Tiểu Thuyết      1636         4.8    304   \n",
       "...                          ...       ...         ...    ...   \n",
       "1791  Sách tư duy - Kỹ năng sống         7         5.0    318   \n",
       "1792                   Triết Học        20         5.0    236   \n",
       "1793             Sách Làm Cha Mẹ        47         4.6    296   \n",
       "1794     Sách quản trị, lãnh đạo        33         5.0    436   \n",
       "1795    Sách nghệ thuật sống đẹp       176         5.0    256   \n",
       "\n",
       "                      manufacturer  \n",
       "0         Nhà Xuất Bản Hội Nhà Văn  \n",
       "2            Nhà Xuất Bản Thế Giới  \n",
       "3         Nhà Xuất Bản Hội Nhà Văn  \n",
       "4              Nhà Xuất Bản Hà Nội  \n",
       "5         Nhà Xuất Bản Hội Nhà Văn  \n",
       "...                            ...  \n",
       "1791  Nhà Xuất Bản Tổng hợp TP.HCM  \n",
       "1792  Nhà Xuất Bản Khoa Học Xã Hội  \n",
       "1793                      Không rõ  \n",
       "1794         Nhà Xuất Bản Lao Động  \n",
       "1795  Nhà Xuất Bản Tổng hợp TP.HCM  \n",
       "\n",
       "[1769 rows x 11 columns]"
      ]
     },
     "execution_count": 34,
     "metadata": {},
     "output_type": "execute_result"
    }
   ],
   "source": [
    "# Tính trung bình của 'pages' theo từng 'category'\n",
    "df['quantity'] = df.groupby('category')['quantity'].transform(lambda x: x.fillna(x.mean()))\n",
    "df['quantity'] = df['quantity'].round().astype('int64')\n",
    "df"
   ]
  },
  {
   "cell_type": "markdown",
   "id": "abb719bf",
   "metadata": {},
   "source": [
    "### Kiểm tra các khoảng giá trị"
   ]
  },
  {
   "cell_type": "code",
   "execution_count": 35,
   "id": "660667d1",
   "metadata": {},
   "outputs": [],
   "source": [
    "numeric_cols.remove('product_id')"
   ]
  },
  {
   "cell_type": "code",
   "execution_count": 36,
   "id": "fa1487b8",
   "metadata": {},
   "outputs": [
    {
     "data": {
      "text/html": [
       "<div>\n",
       "<style scoped>\n",
       "    .dataframe tbody tr th:only-of-type {\n",
       "        vertical-align: middle;\n",
       "    }\n",
       "\n",
       "    .dataframe tbody tr th {\n",
       "        vertical-align: top;\n",
       "    }\n",
       "\n",
       "    .dataframe thead th {\n",
       "        text-align: right;\n",
       "    }\n",
       "</style>\n",
       "<table border=\"1\" class=\"dataframe\">\n",
       "  <thead>\n",
       "    <tr style=\"text-align: right;\">\n",
       "      <th></th>\n",
       "      <th>original_price</th>\n",
       "      <th>current_price</th>\n",
       "      <th>quantity</th>\n",
       "      <th>n_review</th>\n",
       "      <th>avg_rating</th>\n",
       "      <th>pages</th>\n",
       "    </tr>\n",
       "  </thead>\n",
       "  <tbody>\n",
       "    <tr>\n",
       "      <th>count</th>\n",
       "      <td>1,769.00</td>\n",
       "      <td>1,769.00</td>\n",
       "      <td>1,769.00</td>\n",
       "      <td>1,769.00</td>\n",
       "      <td>1,769.00</td>\n",
       "      <td>1,769.00</td>\n",
       "    </tr>\n",
       "    <tr>\n",
       "      <th>mean</th>\n",
       "      <td>158,490.33</td>\n",
       "      <td>115,127.46</td>\n",
       "      <td>2,803.12</td>\n",
       "      <td>328.48</td>\n",
       "      <td>4.60</td>\n",
       "      <td>437.22</td>\n",
       "    </tr>\n",
       "    <tr>\n",
       "      <th>std</th>\n",
       "      <td>127,187.92</td>\n",
       "      <td>101,848.90</td>\n",
       "      <td>16,789.75</td>\n",
       "      <td>730.62</td>\n",
       "      <td>1.13</td>\n",
       "      <td>4,561.19</td>\n",
       "    </tr>\n",
       "    <tr>\n",
       "      <th>min</th>\n",
       "      <td>0.00</td>\n",
       "      <td>0.00</td>\n",
       "      <td>1.00</td>\n",
       "      <td>0.00</td>\n",
       "      <td>0.00</td>\n",
       "      <td>10.00</td>\n",
       "    </tr>\n",
       "    <tr>\n",
       "      <th>25%</th>\n",
       "      <td>89,000.00</td>\n",
       "      <td>60,000.00</td>\n",
       "      <td>180.00</td>\n",
       "      <td>16.00</td>\n",
       "      <td>4.80</td>\n",
       "      <td>216.00</td>\n",
       "    </tr>\n",
       "    <tr>\n",
       "      <th>50%</th>\n",
       "      <td>129,000.00</td>\n",
       "      <td>88,800.00</td>\n",
       "      <td>598.00</td>\n",
       "      <td>75.00</td>\n",
       "      <td>4.80</td>\n",
       "      <td>299.00</td>\n",
       "    </tr>\n",
       "    <tr>\n",
       "      <th>75%</th>\n",
       "      <td>189,000.00</td>\n",
       "      <td>136,500.00</td>\n",
       "      <td>2,247.00</td>\n",
       "      <td>303.00</td>\n",
       "      <td>5.00</td>\n",
       "      <td>402.00</td>\n",
       "    </tr>\n",
       "    <tr>\n",
       "      <th>max</th>\n",
       "      <td>1,550,000.00</td>\n",
       "      <td>1,200,000.00</td>\n",
       "      <td>671,121.00</td>\n",
       "      <td>11,481.00</td>\n",
       "      <td>5.00</td>\n",
       "      <td>192,000.00</td>\n",
       "    </tr>\n",
       "  </tbody>\n",
       "</table>\n",
       "</div>"
      ],
      "text/plain": [
       "       original_price  current_price   quantity  n_review  avg_rating  \\\n",
       "count        1,769.00       1,769.00   1,769.00  1,769.00    1,769.00   \n",
       "mean       158,490.33     115,127.46   2,803.12    328.48        4.60   \n",
       "std        127,187.92     101,848.90  16,789.75    730.62        1.13   \n",
       "min              0.00           0.00       1.00      0.00        0.00   \n",
       "25%         89,000.00      60,000.00     180.00     16.00        4.80   \n",
       "50%        129,000.00      88,800.00     598.00     75.00        4.80   \n",
       "75%        189,000.00     136,500.00   2,247.00    303.00        5.00   \n",
       "max      1,550,000.00   1,200,000.00 671,121.00 11,481.00        5.00   \n",
       "\n",
       "           pages  \n",
       "count   1,769.00  \n",
       "mean      437.22  \n",
       "std     4,561.19  \n",
       "min        10.00  \n",
       "25%       216.00  \n",
       "50%       299.00  \n",
       "75%       402.00  \n",
       "max   192,000.00  "
      ]
     },
     "execution_count": 36,
     "metadata": {},
     "output_type": "execute_result"
    }
   ],
   "source": [
    "statistics = df[numeric_cols].describe()\n",
    "\n",
    "# Hiển thị các chỉ số thống kê với 2 chữ số thập phân\n",
    "pd.set_option('display.float_format', '{:,.2f}'.format)\n",
    "\n",
    "# In kết quả\n",
    "statistics"
   ]
  },
  {
   "cell_type": "markdown",
   "id": "fd53171f",
   "metadata": {},
   "source": [
    "Giá trị 0 ở cột n_review và avg_rating là dễ hiểu bởi có những quyển sách có lượt mua thấp chưa được đánh giá. Ta sẽ tiến hành phân tích sau.\n",
    "Ta thấy cột original_price và current_price có giá trị 0 khá bất thường. Ta tiến hành kiểm tra."
   ]
  },
  {
   "cell_type": "code",
   "execution_count": 37,
   "id": "620b8c90",
   "metadata": {
    "scrolled": true
   },
   "outputs": [
    {
     "data": {
      "text/html": [
       "<div>\n",
       "<style scoped>\n",
       "    .dataframe tbody tr th:only-of-type {\n",
       "        vertical-align: middle;\n",
       "    }\n",
       "\n",
       "    .dataframe tbody tr th {\n",
       "        vertical-align: top;\n",
       "    }\n",
       "\n",
       "    .dataframe thead th {\n",
       "        text-align: right;\n",
       "    }\n",
       "</style>\n",
       "<table border=\"1\" class=\"dataframe\">\n",
       "  <thead>\n",
       "    <tr style=\"text-align: right;\">\n",
       "      <th></th>\n",
       "      <th>product_id</th>\n",
       "      <th>title</th>\n",
       "      <th>authors</th>\n",
       "      <th>original_price</th>\n",
       "      <th>current_price</th>\n",
       "      <th>quantity</th>\n",
       "      <th>category</th>\n",
       "      <th>n_review</th>\n",
       "      <th>avg_rating</th>\n",
       "      <th>pages</th>\n",
       "      <th>manufacturer</th>\n",
       "    </tr>\n",
       "  </thead>\n",
       "  <tbody>\n",
       "    <tr>\n",
       "      <th>968</th>\n",
       "      <td>203875661</td>\n",
       "      <td>( Khóa Học ) IELTS Fighter Target 6.5 Speaking</td>\n",
       "      <td>Không rõ</td>\n",
       "      <td>0</td>\n",
       "      <td>0</td>\n",
       "      <td>56</td>\n",
       "      <td>Sách Học Tiếng Anh</td>\n",
       "      <td>0</td>\n",
       "      <td>0.00</td>\n",
       "      <td>423</td>\n",
       "      <td>Nhà Xuất Bản Thế Giới</td>\n",
       "    </tr>\n",
       "  </tbody>\n",
       "</table>\n",
       "</div>"
      ],
      "text/plain": [
       "     product_id                                           title   authors  \\\n",
       "968   203875661  ( Khóa Học ) IELTS Fighter Target 6.5 Speaking  Không rõ   \n",
       "\n",
       "     original_price  current_price  quantity            category  n_review  \\\n",
       "968               0              0        56  Sách Học Tiếng Anh         0   \n",
       "\n",
       "     avg_rating  pages           manufacturer  \n",
       "968        0.00    423  Nhà Xuất Bản Thế Giới  "
      ]
     },
     "execution_count": 37,
     "metadata": {},
     "output_type": "execute_result"
    }
   ],
   "source": [
    "zero_price = df[(df['original_price'] == 0) | (df['current_price'] == 0)]\n",
    "zero_price"
   ]
  },
  {
   "cell_type": "markdown",
   "id": "9589902f",
   "metadata": {},
   "source": [
    "Có một dòng có dữ liệu bất thường. Xóa dòng dữ liệu trên"
   ]
  },
  {
   "cell_type": "code",
   "execution_count": 38,
   "id": "c71e801c",
   "metadata": {},
   "outputs": [],
   "source": [
    "df.drop(index=968, inplace=True)"
   ]
  },
  {
   "cell_type": "code",
   "execution_count": 39,
   "id": "adb8ba04",
   "metadata": {
    "scrolled": true
   },
   "outputs": [
    {
     "data": {
      "text/html": [
       "<div>\n",
       "<style scoped>\n",
       "    .dataframe tbody tr th:only-of-type {\n",
       "        vertical-align: middle;\n",
       "    }\n",
       "\n",
       "    .dataframe tbody tr th {\n",
       "        vertical-align: top;\n",
       "    }\n",
       "\n",
       "    .dataframe thead th {\n",
       "        text-align: right;\n",
       "    }\n",
       "</style>\n",
       "<table border=\"1\" class=\"dataframe\">\n",
       "  <thead>\n",
       "    <tr style=\"text-align: right;\">\n",
       "      <th></th>\n",
       "      <th>product_id</th>\n",
       "      <th>title</th>\n",
       "      <th>authors</th>\n",
       "      <th>original_price</th>\n",
       "      <th>current_price</th>\n",
       "      <th>quantity</th>\n",
       "      <th>category</th>\n",
       "      <th>n_review</th>\n",
       "      <th>avg_rating</th>\n",
       "      <th>pages</th>\n",
       "      <th>manufacturer</th>\n",
       "    </tr>\n",
       "  </thead>\n",
       "  <tbody>\n",
       "  </tbody>\n",
       "</table>\n",
       "</div>"
      ],
      "text/plain": [
       "Empty DataFrame\n",
       "Columns: [product_id, title, authors, original_price, current_price, quantity, category, n_review, avg_rating, pages, manufacturer]\n",
       "Index: []"
      ]
     },
     "execution_count": 39,
     "metadata": {},
     "output_type": "execute_result"
    }
   ],
   "source": [
    "zero_price = df[(df['original_price'] == 0) | (df['current_price'] == 0)]\n",
    "zero_price"
   ]
  },
  {
   "cell_type": "code",
   "execution_count": 40,
   "id": "e4804096",
   "metadata": {
    "scrolled": true
   },
   "outputs": [
    {
     "data": {
      "text/html": [
       "<div>\n",
       "<style scoped>\n",
       "    .dataframe tbody tr th:only-of-type {\n",
       "        vertical-align: middle;\n",
       "    }\n",
       "\n",
       "    .dataframe tbody tr th {\n",
       "        vertical-align: top;\n",
       "    }\n",
       "\n",
       "    .dataframe thead th {\n",
       "        text-align: right;\n",
       "    }\n",
       "</style>\n",
       "<table border=\"1\" class=\"dataframe\">\n",
       "  <thead>\n",
       "    <tr style=\"text-align: right;\">\n",
       "      <th></th>\n",
       "      <th>original_price</th>\n",
       "      <th>current_price</th>\n",
       "      <th>quantity</th>\n",
       "      <th>n_review</th>\n",
       "      <th>avg_rating</th>\n",
       "      <th>pages</th>\n",
       "    </tr>\n",
       "  </thead>\n",
       "  <tbody>\n",
       "    <tr>\n",
       "      <th>count</th>\n",
       "      <td>1,768.00</td>\n",
       "      <td>1,768.00</td>\n",
       "      <td>1,768.00</td>\n",
       "      <td>1,768.00</td>\n",
       "      <td>1,768.00</td>\n",
       "      <td>1,768.00</td>\n",
       "    </tr>\n",
       "    <tr>\n",
       "      <th>mean</th>\n",
       "      <td>158,579.97</td>\n",
       "      <td>115,192.57</td>\n",
       "      <td>2,804.67</td>\n",
       "      <td>328.67</td>\n",
       "      <td>4.60</td>\n",
       "      <td>437.23</td>\n",
       "    </tr>\n",
       "    <tr>\n",
       "      <th>std</th>\n",
       "      <td>127,167.99</td>\n",
       "      <td>101,840.88</td>\n",
       "      <td>16,794.37</td>\n",
       "      <td>730.78</td>\n",
       "      <td>1.12</td>\n",
       "      <td>4,562.48</td>\n",
       "    </tr>\n",
       "    <tr>\n",
       "      <th>min</th>\n",
       "      <td>15,000.00</td>\n",
       "      <td>9,600.00</td>\n",
       "      <td>1.00</td>\n",
       "      <td>0.00</td>\n",
       "      <td>0.00</td>\n",
       "      <td>10.00</td>\n",
       "    </tr>\n",
       "    <tr>\n",
       "      <th>25%</th>\n",
       "      <td>89,000.00</td>\n",
       "      <td>60,000.00</td>\n",
       "      <td>180.00</td>\n",
       "      <td>16.00</td>\n",
       "      <td>4.80</td>\n",
       "      <td>216.00</td>\n",
       "    </tr>\n",
       "    <tr>\n",
       "      <th>50%</th>\n",
       "      <td>129,000.00</td>\n",
       "      <td>88,800.00</td>\n",
       "      <td>601.00</td>\n",
       "      <td>75.00</td>\n",
       "      <td>4.80</td>\n",
       "      <td>298.50</td>\n",
       "    </tr>\n",
       "    <tr>\n",
       "      <th>75%</th>\n",
       "      <td>189,000.00</td>\n",
       "      <td>136,525.00</td>\n",
       "      <td>2,248.00</td>\n",
       "      <td>303.75</td>\n",
       "      <td>5.00</td>\n",
       "      <td>402.00</td>\n",
       "    </tr>\n",
       "    <tr>\n",
       "      <th>max</th>\n",
       "      <td>1,550,000.00</td>\n",
       "      <td>1,200,000.00</td>\n",
       "      <td>671,121.00</td>\n",
       "      <td>11,481.00</td>\n",
       "      <td>5.00</td>\n",
       "      <td>192,000.00</td>\n",
       "    </tr>\n",
       "  </tbody>\n",
       "</table>\n",
       "</div>"
      ],
      "text/plain": [
       "       original_price  current_price   quantity  n_review  avg_rating  \\\n",
       "count        1,768.00       1,768.00   1,768.00  1,768.00    1,768.00   \n",
       "mean       158,579.97     115,192.57   2,804.67    328.67        4.60   \n",
       "std        127,167.99     101,840.88  16,794.37    730.78        1.12   \n",
       "min         15,000.00       9,600.00       1.00      0.00        0.00   \n",
       "25%         89,000.00      60,000.00     180.00     16.00        4.80   \n",
       "50%        129,000.00      88,800.00     601.00     75.00        4.80   \n",
       "75%        189,000.00     136,525.00   2,248.00    303.75        5.00   \n",
       "max      1,550,000.00   1,200,000.00 671,121.00 11,481.00        5.00   \n",
       "\n",
       "           pages  \n",
       "count   1,768.00  \n",
       "mean      437.23  \n",
       "std     4,562.48  \n",
       "min        10.00  \n",
       "25%       216.00  \n",
       "50%       298.50  \n",
       "75%       402.00  \n",
       "max   192,000.00  "
      ]
     },
     "execution_count": 40,
     "metadata": {},
     "output_type": "execute_result"
    }
   ],
   "source": [
    "statistics = df[numeric_cols].describe()\n",
    "\n",
    "# Hiển thị các chỉ số thống kê với 2 chữ số thập phân\n",
    "pd.set_option('display.float_format', '{:,.2f}'.format)\n",
    "\n",
    "# In kết quả\n",
    "statistics"
   ]
  },
  {
   "cell_type": "markdown",
   "id": "61432ad1",
   "metadata": {},
   "source": [
    "Khoảng giá trị của các cột đã khá hợp lý:\n",
    "- original_price: 15,000 - 1,550,000\n",
    "- current_price: 9,600 - 1,200,000\n",
    "- quantity: 1 - 671,121\n",
    "- n_review: 0 - 11,481\n",
    "- avg_rating: 0.00 - 5.00\n",
    "- pages: 10.00 - 192,000"
   ]
  },
  {
   "cell_type": "markdown",
   "id": "ea607dca",
   "metadata": {},
   "source": [
    "### Kiểm tra các phân phối"
   ]
  },
  {
   "cell_type": "code",
   "execution_count": 41,
   "id": "03358cfb",
   "metadata": {
    "scrolled": false
   },
   "outputs": [
    {
     "data": {
      "image/png": "[encoded data removed]",
      "text/plain": [
       "<Figure size 1200x800 with 6 Axes>"
      ]
     },
     "metadata": {},
     "output_type": "display_data"
    }
   ],
   "source": [
    "plt.figure(figsize=(12, 8))\n",
    "\n",
    "# Duyệt qua các cột số và vẽ phân phối\n",
    "for i, col in enumerate(numeric_cols):\n",
    "    plt.subplot(2, len(numeric_cols)//2, i+1)\n",
    "    sns.histplot(df[col], kde=True, bins=20) \n",
    "    plt.title(f'Phân phối của {col}')\n",
    "    plt.tight_layout()\n",
    "\n",
    "plt.show()"
   ]
  },
  {
   "cell_type": "markdown",
   "id": "2a2c944a",
   "metadata": {},
   "source": [
    "Phân phỗi của các cột không có bất thường. Ta sẽ tiến hành phân tích ở phần sau để rõ hơn."
   ]
  },
  {
   "cell_type": "markdown",
   "id": "fb459114",
   "metadata": {},
   "source": [
    "# Lưu dữ liệu"
   ]
  },
  {
   "cell_type": "code",
   "execution_count": 42,
   "id": "e4b03c7a",
   "metadata": {
    "scrolled": false
   },
   "outputs": [
    {
     "data": {
      "text/html": [
       "<div>\n",
       "<style scoped>\n",
       "    .dataframe tbody tr th:only-of-type {\n",
       "        vertical-align: middle;\n",
       "    }\n",
       "\n",
       "    .dataframe tbody tr th {\n",
       "        vertical-align: top;\n",
       "    }\n",
       "\n",
       "    .dataframe thead th {\n",
       "        text-align: right;\n",
       "    }\n",
       "</style>\n",
       "<table border=\"1\" class=\"dataframe\">\n",
       "  <thead>\n",
       "    <tr style=\"text-align: right;\">\n",
       "      <th></th>\n",
       "      <th>product_id</th>\n",
       "      <th>title</th>\n",
       "      <th>authors</th>\n",
       "      <th>original_price</th>\n",
       "      <th>current_price</th>\n",
       "      <th>quantity</th>\n",
       "      <th>category</th>\n",
       "      <th>n_review</th>\n",
       "      <th>avg_rating</th>\n",
       "      <th>pages</th>\n",
       "      <th>manufacturer</th>\n",
       "    </tr>\n",
       "  </thead>\n",
       "  <tbody>\n",
       "    <tr>\n",
       "      <th>0</th>\n",
       "      <td>74021317</td>\n",
       "      <td>Cây Cam Ngọt Của Tôi</td>\n",
       "      <td>José Mauro de Vasconcelos</td>\n",
       "      <td>108000</td>\n",
       "      <td>64800</td>\n",
       "      <td>53075</td>\n",
       "      <td>Tiểu Thuyết</td>\n",
       "      <td>11481</td>\n",
       "      <td>5.00</td>\n",
       "      <td>244</td>\n",
       "      <td>Nhà Xuất Bản Hội Nhà Văn</td>\n",
       "    </tr>\n",
       "    <tr>\n",
       "      <th>2</th>\n",
       "      <td>184466860</td>\n",
       "      <td>Hành Tinh Của Một Kẻ Nghĩ Nhiều</td>\n",
       "      <td>Nguyễn Đoàn Minh Thư</td>\n",
       "      <td>86000</td>\n",
       "      <td>59900</td>\n",
       "      <td>7929</td>\n",
       "      <td>Sách tư duy - Kỹ năng sống</td>\n",
       "      <td>780</td>\n",
       "      <td>4.80</td>\n",
       "      <td>184</td>\n",
       "      <td>Nhà Xuất Bản Thế Giới</td>\n",
       "    </tr>\n",
       "    <tr>\n",
       "      <th>3</th>\n",
       "      <td>73787185</td>\n",
       "      <td>Những Tù Nhân Của Địa Lý</td>\n",
       "      <td>Tim Marshall</td>\n",
       "      <td>210000</td>\n",
       "      <td>126000</td>\n",
       "      <td>17896</td>\n",
       "      <td>Lĩnh vực khác</td>\n",
       "      <td>3623</td>\n",
       "      <td>4.80</td>\n",
       "      <td>430</td>\n",
       "      <td>Nhà Xuất Bản Hội Nhà Văn</td>\n",
       "    </tr>\n",
       "    <tr>\n",
       "      <th>4</th>\n",
       "      <td>52789367</td>\n",
       "      <td>Nhà Giả Kim (Tái Bản 2020)</td>\n",
       "      <td>Paulo Coelho</td>\n",
       "      <td>79000</td>\n",
       "      <td>47400</td>\n",
       "      <td>24668</td>\n",
       "      <td>Tác phẩm kinh điển</td>\n",
       "      <td>5131</td>\n",
       "      <td>5.00</td>\n",
       "      <td>228</td>\n",
       "      <td>Nhà Xuất Bản Hà Nội</td>\n",
       "    </tr>\n",
       "    <tr>\n",
       "      <th>5</th>\n",
       "      <td>147920903</td>\n",
       "      <td>Một Thoáng Ta Rực Rỡ Ở Nhân Gian</td>\n",
       "      <td>Không rõ</td>\n",
       "      <td>135000</td>\n",
       "      <td>81000</td>\n",
       "      <td>10000</td>\n",
       "      <td>Tiểu Thuyết</td>\n",
       "      <td>1636</td>\n",
       "      <td>4.80</td>\n",
       "      <td>304</td>\n",
       "      <td>Nhà Xuất Bản Hội Nhà Văn</td>\n",
       "    </tr>\n",
       "  </tbody>\n",
       "</table>\n",
       "</div>"
      ],
      "text/plain": [
       "   product_id                             title                    authors  \\\n",
       "0    74021317              Cây Cam Ngọt Của Tôi  José Mauro de Vasconcelos   \n",
       "2   184466860   Hành Tinh Của Một Kẻ Nghĩ Nhiều       Nguyễn Đoàn Minh Thư   \n",
       "3    73787185          Những Tù Nhân Của Địa Lý               Tim Marshall   \n",
       "4    52789367        Nhà Giả Kim (Tái Bản 2020)               Paulo Coelho   \n",
       "5   147920903  Một Thoáng Ta Rực Rỡ Ở Nhân Gian                   Không rõ   \n",
       "\n",
       "   original_price  current_price  quantity                    category  \\\n",
       "0          108000          64800     53075                 Tiểu Thuyết   \n",
       "2           86000          59900      7929  Sách tư duy - Kỹ năng sống   \n",
       "3          210000         126000     17896               Lĩnh vực khác   \n",
       "4           79000          47400     24668          Tác phẩm kinh điển   \n",
       "5          135000          81000     10000                 Tiểu Thuyết   \n",
       "\n",
       "   n_review  avg_rating  pages              manufacturer  \n",
       "0     11481        5.00    244  Nhà Xuất Bản Hội Nhà Văn  \n",
       "2       780        4.80    184     Nhà Xuất Bản Thế Giới  \n",
       "3      3623        4.80    430  Nhà Xuất Bản Hội Nhà Văn  \n",
       "4      5131        5.00    228       Nhà Xuất Bản Hà Nội  \n",
       "5      1636        4.80    304  Nhà Xuất Bản Hội Nhà Văn  "
      ]
     },
     "execution_count": 42,
     "metadata": {},
     "output_type": "execute_result"
    }
   ],
   "source": [
    "df.head()"
   ]
  },
  {
   "cell_type": "code",
   "execution_count": 43,
   "id": "ecfa5193",
   "metadata": {},
   "outputs": [],
   "source": [
    "df.to_csv('../dataset/book_data_cleaned.csv', index=False)"
   ]
  },
  {
   "cell_type": "markdown",
   "id": "5cc7b0e5",
   "metadata": {},
   "source": [
    "# Tương quan giữa các thuộc tính"
   ]
  },
  {
   "cell_type": "code",
   "execution_count": 44,
   "id": "e9a9b945",
   "metadata": {},
   "outputs": [
    {
     "data": {
      "image/png": "[encoded data removed]",
      "text/plain": [
       "<Figure size 800x600 with 2 Axes>"
      ]
     },
     "metadata": {},
     "output_type": "display_data"
    }
   ],
   "source": [
    "label_encoder = LabelEncoder()\n",
    "\n",
    "for column in df.select_dtypes(include=['object']).columns:\n",
    "    df[column] = label_encoder.fit_transform(df[column])\n",
    "\n",
    "correlation_matrix = df.corr()\n",
    "\n",
    "plt.figure(figsize=(8, 6))\n",
    "sns.heatmap(correlation_matrix, annot=True, fmt=\".2f\", cmap='crest_r', square=True)\n",
    "plt.title('Ma trận tương quan giữa các thuộc tính')\n",
    "plt.show()"
   ]
  },
  {
   "cell_type": "code",
   "execution_count": null,
   "id": "efb239b0",
   "metadata": {},
   "outputs": [],
   "source": []
  },
  {
   "cell_type": "code",
   "execution_count": null,
   "id": "0ad52793",
   "metadata": {},
   "outputs": [],
   "source": []
  }
 ],
 "metadata": {
  "kernelspec": {
   "display_name": "Python 3 (ipykernel)",
   "language": "python",
   "name": "python3"
  },
  "language_info": {
   "codemirror_mode": {
    "name": "ipython",
    "version": 3
   },
   "file_extension": ".py",
   "mimetype": "text/x-python",
   "name": "python",
   "nbconvert_exporter": "python",
   "pygments_lexer": "ipython3",
   "version": "3.10.15"
  }
 },
 "nbformat": 4,
 "nbformat_minor": 5
}
